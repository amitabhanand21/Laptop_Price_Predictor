{
 "cells": [
  {
   "cell_type": "code",
   "execution_count": 1,
   "id": "1521a79a",
   "metadata": {},
   "outputs": [],
   "source": [
    "import pandas as pd\n",
    "import numpy as np\n",
    "import matplotlib.pyplot as plt\n",
    "import seaborn as sns"
   ]
  },
  {
   "cell_type": "code",
   "execution_count": 2,
   "id": "2e9ffb46",
   "metadata": {},
   "outputs": [],
   "source": [
    "df=pd.read_csv('C:/Users/AMITABH ANAND/Desktop/DS/Projects/Laptop Price Predictor/laptop_data.csv')"
   ]
  },
  {
   "cell_type": "code",
   "execution_count": 3,
   "id": "eeeb6bfd",
   "metadata": {},
   "outputs": [
    {
     "data": {
      "text/html": [
       "<div>\n",
       "<style scoped>\n",
       "    .dataframe tbody tr th:only-of-type {\n",
       "        vertical-align: middle;\n",
       "    }\n",
       "\n",
       "    .dataframe tbody tr th {\n",
       "        vertical-align: top;\n",
       "    }\n",
       "\n",
       "    .dataframe thead th {\n",
       "        text-align: right;\n",
       "    }\n",
       "</style>\n",
       "<table border=\"1\" class=\"dataframe\">\n",
       "  <thead>\n",
       "    <tr style=\"text-align: right;\">\n",
       "      <th></th>\n",
       "      <th>Unnamed: 0</th>\n",
       "      <th>Company</th>\n",
       "      <th>TypeName</th>\n",
       "      <th>Inches</th>\n",
       "      <th>ScreenResolution</th>\n",
       "      <th>Cpu</th>\n",
       "      <th>Ram</th>\n",
       "      <th>Memory</th>\n",
       "      <th>Gpu</th>\n",
       "      <th>OpSys</th>\n",
       "      <th>Weight</th>\n",
       "      <th>Price</th>\n",
       "    </tr>\n",
       "  </thead>\n",
       "  <tbody>\n",
       "    <tr>\n",
       "      <th>0</th>\n",
       "      <td>0</td>\n",
       "      <td>Apple</td>\n",
       "      <td>Ultrabook</td>\n",
       "      <td>13.3</td>\n",
       "      <td>IPS Panel Retina Display 2560x1600</td>\n",
       "      <td>Intel Core i5 2.3GHz</td>\n",
       "      <td>8GB</td>\n",
       "      <td>128GB SSD</td>\n",
       "      <td>Intel Iris Plus Graphics 640</td>\n",
       "      <td>macOS</td>\n",
       "      <td>1.37kg</td>\n",
       "      <td>71378.6832</td>\n",
       "    </tr>\n",
       "    <tr>\n",
       "      <th>1</th>\n",
       "      <td>1</td>\n",
       "      <td>Apple</td>\n",
       "      <td>Ultrabook</td>\n",
       "      <td>13.3</td>\n",
       "      <td>1440x900</td>\n",
       "      <td>Intel Core i5 1.8GHz</td>\n",
       "      <td>8GB</td>\n",
       "      <td>128GB Flash Storage</td>\n",
       "      <td>Intel HD Graphics 6000</td>\n",
       "      <td>macOS</td>\n",
       "      <td>1.34kg</td>\n",
       "      <td>47895.5232</td>\n",
       "    </tr>\n",
       "    <tr>\n",
       "      <th>2</th>\n",
       "      <td>2</td>\n",
       "      <td>HP</td>\n",
       "      <td>Notebook</td>\n",
       "      <td>15.6</td>\n",
       "      <td>Full HD 1920x1080</td>\n",
       "      <td>Intel Core i5 7200U 2.5GHz</td>\n",
       "      <td>8GB</td>\n",
       "      <td>256GB SSD</td>\n",
       "      <td>Intel HD Graphics 620</td>\n",
       "      <td>No OS</td>\n",
       "      <td>1.86kg</td>\n",
       "      <td>30636.0000</td>\n",
       "    </tr>\n",
       "    <tr>\n",
       "      <th>3</th>\n",
       "      <td>3</td>\n",
       "      <td>Apple</td>\n",
       "      <td>Ultrabook</td>\n",
       "      <td>15.4</td>\n",
       "      <td>IPS Panel Retina Display 2880x1800</td>\n",
       "      <td>Intel Core i7 2.7GHz</td>\n",
       "      <td>16GB</td>\n",
       "      <td>512GB SSD</td>\n",
       "      <td>AMD Radeon Pro 455</td>\n",
       "      <td>macOS</td>\n",
       "      <td>1.83kg</td>\n",
       "      <td>135195.3360</td>\n",
       "    </tr>\n",
       "    <tr>\n",
       "      <th>4</th>\n",
       "      <td>4</td>\n",
       "      <td>Apple</td>\n",
       "      <td>Ultrabook</td>\n",
       "      <td>13.3</td>\n",
       "      <td>IPS Panel Retina Display 2560x1600</td>\n",
       "      <td>Intel Core i5 3.1GHz</td>\n",
       "      <td>8GB</td>\n",
       "      <td>256GB SSD</td>\n",
       "      <td>Intel Iris Plus Graphics 650</td>\n",
       "      <td>macOS</td>\n",
       "      <td>1.37kg</td>\n",
       "      <td>96095.8080</td>\n",
       "    </tr>\n",
       "  </tbody>\n",
       "</table>\n",
       "</div>"
      ],
      "text/plain": [
       "   Unnamed: 0 Company   TypeName  Inches                    ScreenResolution  \\\n",
       "0           0   Apple  Ultrabook    13.3  IPS Panel Retina Display 2560x1600   \n",
       "1           1   Apple  Ultrabook    13.3                            1440x900   \n",
       "2           2      HP   Notebook    15.6                   Full HD 1920x1080   \n",
       "3           3   Apple  Ultrabook    15.4  IPS Panel Retina Display 2880x1800   \n",
       "4           4   Apple  Ultrabook    13.3  IPS Panel Retina Display 2560x1600   \n",
       "\n",
       "                          Cpu   Ram               Memory  \\\n",
       "0        Intel Core i5 2.3GHz   8GB            128GB SSD   \n",
       "1        Intel Core i5 1.8GHz   8GB  128GB Flash Storage   \n",
       "2  Intel Core i5 7200U 2.5GHz   8GB            256GB SSD   \n",
       "3        Intel Core i7 2.7GHz  16GB            512GB SSD   \n",
       "4        Intel Core i5 3.1GHz   8GB            256GB SSD   \n",
       "\n",
       "                            Gpu  OpSys  Weight        Price  \n",
       "0  Intel Iris Plus Graphics 640  macOS  1.37kg   71378.6832  \n",
       "1        Intel HD Graphics 6000  macOS  1.34kg   47895.5232  \n",
       "2         Intel HD Graphics 620  No OS  1.86kg   30636.0000  \n",
       "3            AMD Radeon Pro 455  macOS  1.83kg  135195.3360  \n",
       "4  Intel Iris Plus Graphics 650  macOS  1.37kg   96095.8080  "
      ]
     },
     "execution_count": 3,
     "metadata": {},
     "output_type": "execute_result"
    }
   ],
   "source": [
    "df.head()"
   ]
  },
  {
   "cell_type": "code",
   "execution_count": 4,
   "id": "e30234b4",
   "metadata": {},
   "outputs": [],
   "source": [
    "df.drop(columns='Unnamed: 0', inplace=True)"
   ]
  },
  {
   "cell_type": "code",
   "execution_count": 5,
   "id": "c9b7c36d",
   "metadata": {},
   "outputs": [
    {
     "data": {
      "text/html": [
       "<div>\n",
       "<style scoped>\n",
       "    .dataframe tbody tr th:only-of-type {\n",
       "        vertical-align: middle;\n",
       "    }\n",
       "\n",
       "    .dataframe tbody tr th {\n",
       "        vertical-align: top;\n",
       "    }\n",
       "\n",
       "    .dataframe thead th {\n",
       "        text-align: right;\n",
       "    }\n",
       "</style>\n",
       "<table border=\"1\" class=\"dataframe\">\n",
       "  <thead>\n",
       "    <tr style=\"text-align: right;\">\n",
       "      <th></th>\n",
       "      <th>Company</th>\n",
       "      <th>TypeName</th>\n",
       "      <th>Inches</th>\n",
       "      <th>ScreenResolution</th>\n",
       "      <th>Cpu</th>\n",
       "      <th>Ram</th>\n",
       "      <th>Memory</th>\n",
       "      <th>Gpu</th>\n",
       "      <th>OpSys</th>\n",
       "      <th>Weight</th>\n",
       "      <th>Price</th>\n",
       "    </tr>\n",
       "  </thead>\n",
       "  <tbody>\n",
       "    <tr>\n",
       "      <th>0</th>\n",
       "      <td>Apple</td>\n",
       "      <td>Ultrabook</td>\n",
       "      <td>13.3</td>\n",
       "      <td>IPS Panel Retina Display 2560x1600</td>\n",
       "      <td>Intel Core i5 2.3GHz</td>\n",
       "      <td>8GB</td>\n",
       "      <td>128GB SSD</td>\n",
       "      <td>Intel Iris Plus Graphics 640</td>\n",
       "      <td>macOS</td>\n",
       "      <td>1.37kg</td>\n",
       "      <td>71378.6832</td>\n",
       "    </tr>\n",
       "    <tr>\n",
       "      <th>1</th>\n",
       "      <td>Apple</td>\n",
       "      <td>Ultrabook</td>\n",
       "      <td>13.3</td>\n",
       "      <td>1440x900</td>\n",
       "      <td>Intel Core i5 1.8GHz</td>\n",
       "      <td>8GB</td>\n",
       "      <td>128GB Flash Storage</td>\n",
       "      <td>Intel HD Graphics 6000</td>\n",
       "      <td>macOS</td>\n",
       "      <td>1.34kg</td>\n",
       "      <td>47895.5232</td>\n",
       "    </tr>\n",
       "    <tr>\n",
       "      <th>2</th>\n",
       "      <td>HP</td>\n",
       "      <td>Notebook</td>\n",
       "      <td>15.6</td>\n",
       "      <td>Full HD 1920x1080</td>\n",
       "      <td>Intel Core i5 7200U 2.5GHz</td>\n",
       "      <td>8GB</td>\n",
       "      <td>256GB SSD</td>\n",
       "      <td>Intel HD Graphics 620</td>\n",
       "      <td>No OS</td>\n",
       "      <td>1.86kg</td>\n",
       "      <td>30636.0000</td>\n",
       "    </tr>\n",
       "    <tr>\n",
       "      <th>3</th>\n",
       "      <td>Apple</td>\n",
       "      <td>Ultrabook</td>\n",
       "      <td>15.4</td>\n",
       "      <td>IPS Panel Retina Display 2880x1800</td>\n",
       "      <td>Intel Core i7 2.7GHz</td>\n",
       "      <td>16GB</td>\n",
       "      <td>512GB SSD</td>\n",
       "      <td>AMD Radeon Pro 455</td>\n",
       "      <td>macOS</td>\n",
       "      <td>1.83kg</td>\n",
       "      <td>135195.3360</td>\n",
       "    </tr>\n",
       "    <tr>\n",
       "      <th>4</th>\n",
       "      <td>Apple</td>\n",
       "      <td>Ultrabook</td>\n",
       "      <td>13.3</td>\n",
       "      <td>IPS Panel Retina Display 2560x1600</td>\n",
       "      <td>Intel Core i5 3.1GHz</td>\n",
       "      <td>8GB</td>\n",
       "      <td>256GB SSD</td>\n",
       "      <td>Intel Iris Plus Graphics 650</td>\n",
       "      <td>macOS</td>\n",
       "      <td>1.37kg</td>\n",
       "      <td>96095.8080</td>\n",
       "    </tr>\n",
       "  </tbody>\n",
       "</table>\n",
       "</div>"
      ],
      "text/plain": [
       "  Company   TypeName  Inches                    ScreenResolution  \\\n",
       "0   Apple  Ultrabook    13.3  IPS Panel Retina Display 2560x1600   \n",
       "1   Apple  Ultrabook    13.3                            1440x900   \n",
       "2      HP   Notebook    15.6                   Full HD 1920x1080   \n",
       "3   Apple  Ultrabook    15.4  IPS Panel Retina Display 2880x1800   \n",
       "4   Apple  Ultrabook    13.3  IPS Panel Retina Display 2560x1600   \n",
       "\n",
       "                          Cpu   Ram               Memory  \\\n",
       "0        Intel Core i5 2.3GHz   8GB            128GB SSD   \n",
       "1        Intel Core i5 1.8GHz   8GB  128GB Flash Storage   \n",
       "2  Intel Core i5 7200U 2.5GHz   8GB            256GB SSD   \n",
       "3        Intel Core i7 2.7GHz  16GB            512GB SSD   \n",
       "4        Intel Core i5 3.1GHz   8GB            256GB SSD   \n",
       "\n",
       "                            Gpu  OpSys  Weight        Price  \n",
       "0  Intel Iris Plus Graphics 640  macOS  1.37kg   71378.6832  \n",
       "1        Intel HD Graphics 6000  macOS  1.34kg   47895.5232  \n",
       "2         Intel HD Graphics 620  No OS  1.86kg   30636.0000  \n",
       "3            AMD Radeon Pro 455  macOS  1.83kg  135195.3360  \n",
       "4  Intel Iris Plus Graphics 650  macOS  1.37kg   96095.8080  "
      ]
     },
     "execution_count": 5,
     "metadata": {},
     "output_type": "execute_result"
    }
   ],
   "source": [
    "df.head()"
   ]
  },
  {
   "cell_type": "code",
   "execution_count": 6,
   "id": "34f0c3ba",
   "metadata": {},
   "outputs": [
    {
     "data": {
      "text/html": [
       "<div>\n",
       "<style scoped>\n",
       "    .dataframe tbody tr th:only-of-type {\n",
       "        vertical-align: middle;\n",
       "    }\n",
       "\n",
       "    .dataframe tbody tr th {\n",
       "        vertical-align: top;\n",
       "    }\n",
       "\n",
       "    .dataframe thead th {\n",
       "        text-align: right;\n",
       "    }\n",
       "</style>\n",
       "<table border=\"1\" class=\"dataframe\">\n",
       "  <thead>\n",
       "    <tr style=\"text-align: right;\">\n",
       "      <th></th>\n",
       "      <th>Company</th>\n",
       "      <th>TypeName</th>\n",
       "      <th>Inches</th>\n",
       "      <th>ScreenResolution</th>\n",
       "      <th>Cpu</th>\n",
       "      <th>Ram</th>\n",
       "      <th>Memory</th>\n",
       "      <th>Gpu</th>\n",
       "      <th>OpSys</th>\n",
       "      <th>Weight</th>\n",
       "      <th>Price</th>\n",
       "    </tr>\n",
       "  </thead>\n",
       "  <tbody>\n",
       "    <tr>\n",
       "      <th>0</th>\n",
       "      <td>Apple</td>\n",
       "      <td>Ultrabook</td>\n",
       "      <td>13.3</td>\n",
       "      <td>IPS Panel Retina Display 2560x1600</td>\n",
       "      <td>Intel Core i5 2.3GHz</td>\n",
       "      <td>8GB</td>\n",
       "      <td>128GB SSD</td>\n",
       "      <td>Intel Iris Plus Graphics 640</td>\n",
       "      <td>macOS</td>\n",
       "      <td>1.37kg</td>\n",
       "      <td>71378.6832</td>\n",
       "    </tr>\n",
       "    <tr>\n",
       "      <th>1</th>\n",
       "      <td>Apple</td>\n",
       "      <td>Ultrabook</td>\n",
       "      <td>13.3</td>\n",
       "      <td>1440x900</td>\n",
       "      <td>Intel Core i5 1.8GHz</td>\n",
       "      <td>8GB</td>\n",
       "      <td>128GB Flash Storage</td>\n",
       "      <td>Intel HD Graphics 6000</td>\n",
       "      <td>macOS</td>\n",
       "      <td>1.34kg</td>\n",
       "      <td>47895.5232</td>\n",
       "    </tr>\n",
       "    <tr>\n",
       "      <th>2</th>\n",
       "      <td>HP</td>\n",
       "      <td>Notebook</td>\n",
       "      <td>15.6</td>\n",
       "      <td>Full HD 1920x1080</td>\n",
       "      <td>Intel Core i5 7200U 2.5GHz</td>\n",
       "      <td>8GB</td>\n",
       "      <td>256GB SSD</td>\n",
       "      <td>Intel HD Graphics 620</td>\n",
       "      <td>No OS</td>\n",
       "      <td>1.86kg</td>\n",
       "      <td>30636.0000</td>\n",
       "    </tr>\n",
       "    <tr>\n",
       "      <th>3</th>\n",
       "      <td>Apple</td>\n",
       "      <td>Ultrabook</td>\n",
       "      <td>15.4</td>\n",
       "      <td>IPS Panel Retina Display 2880x1800</td>\n",
       "      <td>Intel Core i7 2.7GHz</td>\n",
       "      <td>16GB</td>\n",
       "      <td>512GB SSD</td>\n",
       "      <td>AMD Radeon Pro 455</td>\n",
       "      <td>macOS</td>\n",
       "      <td>1.83kg</td>\n",
       "      <td>135195.3360</td>\n",
       "    </tr>\n",
       "    <tr>\n",
       "      <th>4</th>\n",
       "      <td>Apple</td>\n",
       "      <td>Ultrabook</td>\n",
       "      <td>13.3</td>\n",
       "      <td>IPS Panel Retina Display 2560x1600</td>\n",
       "      <td>Intel Core i5 3.1GHz</td>\n",
       "      <td>8GB</td>\n",
       "      <td>256GB SSD</td>\n",
       "      <td>Intel Iris Plus Graphics 650</td>\n",
       "      <td>macOS</td>\n",
       "      <td>1.37kg</td>\n",
       "      <td>96095.8080</td>\n",
       "    </tr>\n",
       "  </tbody>\n",
       "</table>\n",
       "</div>"
      ],
      "text/plain": [
       "  Company   TypeName  Inches                    ScreenResolution  \\\n",
       "0   Apple  Ultrabook    13.3  IPS Panel Retina Display 2560x1600   \n",
       "1   Apple  Ultrabook    13.3                            1440x900   \n",
       "2      HP   Notebook    15.6                   Full HD 1920x1080   \n",
       "3   Apple  Ultrabook    15.4  IPS Panel Retina Display 2880x1800   \n",
       "4   Apple  Ultrabook    13.3  IPS Panel Retina Display 2560x1600   \n",
       "\n",
       "                          Cpu   Ram               Memory  \\\n",
       "0        Intel Core i5 2.3GHz   8GB            128GB SSD   \n",
       "1        Intel Core i5 1.8GHz   8GB  128GB Flash Storage   \n",
       "2  Intel Core i5 7200U 2.5GHz   8GB            256GB SSD   \n",
       "3        Intel Core i7 2.7GHz  16GB            512GB SSD   \n",
       "4        Intel Core i5 3.1GHz   8GB            256GB SSD   \n",
       "\n",
       "                            Gpu  OpSys  Weight        Price  \n",
       "0  Intel Iris Plus Graphics 640  macOS  1.37kg   71378.6832  \n",
       "1        Intel HD Graphics 6000  macOS  1.34kg   47895.5232  \n",
       "2         Intel HD Graphics 620  No OS  1.86kg   30636.0000  \n",
       "3            AMD Radeon Pro 455  macOS  1.83kg  135195.3360  \n",
       "4  Intel Iris Plus Graphics 650  macOS  1.37kg   96095.8080  "
      ]
     },
     "execution_count": 6,
     "metadata": {},
     "output_type": "execute_result"
    }
   ],
   "source": [
    "df.head()"
   ]
  },
  {
   "cell_type": "code",
   "execution_count": 7,
   "id": "d18b7c35",
   "metadata": {},
   "outputs": [
    {
     "data": {
      "text/plain": [
       "(1303, 11)"
      ]
     },
     "execution_count": 7,
     "metadata": {},
     "output_type": "execute_result"
    }
   ],
   "source": [
    "df.shape"
   ]
  },
  {
   "cell_type": "code",
   "execution_count": 8,
   "id": "7e59d9e4",
   "metadata": {},
   "outputs": [
    {
     "data": {
      "text/plain": [
       "Company             0\n",
       "TypeName            0\n",
       "Inches              0\n",
       "ScreenResolution    0\n",
       "Cpu                 0\n",
       "Ram                 0\n",
       "Memory              0\n",
       "Gpu                 0\n",
       "OpSys               0\n",
       "Weight              0\n",
       "Price               0\n",
       "dtype: int64"
      ]
     },
     "execution_count": 8,
     "metadata": {},
     "output_type": "execute_result"
    }
   ],
   "source": [
    "df.isnull().sum()"
   ]
  },
  {
   "cell_type": "code",
   "execution_count": 9,
   "id": "d3118bef",
   "metadata": {},
   "outputs": [
    {
     "name": "stdout",
     "output_type": "stream",
     "text": [
      "<class 'pandas.core.frame.DataFrame'>\n",
      "RangeIndex: 1303 entries, 0 to 1302\n",
      "Data columns (total 11 columns):\n",
      " #   Column            Non-Null Count  Dtype  \n",
      "---  ------            --------------  -----  \n",
      " 0   Company           1303 non-null   object \n",
      " 1   TypeName          1303 non-null   object \n",
      " 2   Inches            1303 non-null   float64\n",
      " 3   ScreenResolution  1303 non-null   object \n",
      " 4   Cpu               1303 non-null   object \n",
      " 5   Ram               1303 non-null   object \n",
      " 6   Memory            1303 non-null   object \n",
      " 7   Gpu               1303 non-null   object \n",
      " 8   OpSys             1303 non-null   object \n",
      " 9   Weight            1303 non-null   object \n",
      " 10  Price             1303 non-null   float64\n",
      "dtypes: float64(2), object(9)\n",
      "memory usage: 112.1+ KB\n"
     ]
    }
   ],
   "source": [
    "df.info()"
   ]
  },
  {
   "cell_type": "code",
   "execution_count": 10,
   "id": "bc5584ef",
   "metadata": {},
   "outputs": [
    {
     "data": {
      "text/plain": [
       "29"
      ]
     },
     "execution_count": 10,
     "metadata": {},
     "output_type": "execute_result"
    }
   ],
   "source": [
    "df.duplicated().sum()"
   ]
  },
  {
   "cell_type": "code",
   "execution_count": 11,
   "id": "68fb90f0",
   "metadata": {},
   "outputs": [],
   "source": [
    "df.drop_duplicates(inplace=True)"
   ]
  },
  {
   "cell_type": "code",
   "execution_count": 12,
   "id": "548cbfc2",
   "metadata": {},
   "outputs": [
    {
     "data": {
      "text/plain": [
       "(1274, 11)"
      ]
     },
     "execution_count": 12,
     "metadata": {},
     "output_type": "execute_result"
    }
   ],
   "source": [
    "df.shape"
   ]
  },
  {
   "cell_type": "code",
   "execution_count": 13,
   "id": "d4e2508d",
   "metadata": {},
   "outputs": [],
   "source": [
    "df['Ram']=df['Ram'].str.replace('GB','')\n",
    "df['Weight']=df['Weight'].str.replace('kg','')"
   ]
  },
  {
   "cell_type": "code",
   "execution_count": 14,
   "id": "9c788939",
   "metadata": {},
   "outputs": [],
   "source": [
    "df['Ram']=df['Ram'].astype('int')\n",
    "df['Weight']=df['Weight'].astype('float')"
   ]
  },
  {
   "cell_type": "code",
   "execution_count": 15,
   "id": "ea1e3d49",
   "metadata": {},
   "outputs": [
    {
     "name": "stdout",
     "output_type": "stream",
     "text": [
      "<class 'pandas.core.frame.DataFrame'>\n",
      "Int64Index: 1274 entries, 0 to 1273\n",
      "Data columns (total 11 columns):\n",
      " #   Column            Non-Null Count  Dtype  \n",
      "---  ------            --------------  -----  \n",
      " 0   Company           1274 non-null   object \n",
      " 1   TypeName          1274 non-null   object \n",
      " 2   Inches            1274 non-null   float64\n",
      " 3   ScreenResolution  1274 non-null   object \n",
      " 4   Cpu               1274 non-null   object \n",
      " 5   Ram               1274 non-null   int32  \n",
      " 6   Memory            1274 non-null   object \n",
      " 7   Gpu               1274 non-null   object \n",
      " 8   OpSys             1274 non-null   object \n",
      " 9   Weight            1274 non-null   float64\n",
      " 10  Price             1274 non-null   float64\n",
      "dtypes: float64(3), int32(1), object(7)\n",
      "memory usage: 114.5+ KB\n"
     ]
    }
   ],
   "source": [
    "df.info()"
   ]
  },
  {
   "cell_type": "code",
   "execution_count": 16,
   "id": "61442dfa",
   "metadata": {},
   "outputs": [
    {
     "data": {
      "text/plain": [
       "<AxesSubplot:xlabel='Price', ylabel='Count'>"
      ]
     },
     "execution_count": 16,
     "metadata": {},
     "output_type": "execute_result"
    },
    {
     "data": {
      "image/png": "[encoded data removed]",
      "text/plain": [
       "<Figure size 640x480 with 1 Axes>"
      ]
     },
     "metadata": {},
     "output_type": "display_data"
    }
   ],
   "source": [
    "sns.histplot(df['Price'])"
   ]
  },
  {
   "cell_type": "code",
   "execution_count": 17,
   "id": "68e1f8af",
   "metadata": {},
   "outputs": [
    {
     "data": {
      "text/plain": [
       "Dell         291\n",
       "Lenovo       289\n",
       "HP           268\n",
       "Asus         151\n",
       "Acer         101\n",
       "MSI           54\n",
       "Toshiba       48\n",
       "Apple         21\n",
       "Samsung        9\n",
       "Razer          7\n",
       "Mediacom       7\n",
       "Microsoft      6\n",
       "Xiaomi         4\n",
       "Vero           4\n",
       "Chuwi          3\n",
       "Google         3\n",
       "Fujitsu        3\n",
       "LG             3\n",
       "Huawei         2\n",
       "Name: Company, dtype: int64"
      ]
     },
     "execution_count": 17,
     "metadata": {},
     "output_type": "execute_result"
    }
   ],
   "source": [
    "df['Company'].value_counts()"
   ]
  },
  {
   "cell_type": "code",
   "execution_count": 18,
   "id": "87db64b1",
   "metadata": {},
   "outputs": [
    {
     "data": {
      "text/plain": [
       "<AxesSubplot:>"
      ]
     },
     "execution_count": 18,
     "metadata": {},
     "output_type": "execute_result"
    },
    {
     "data": {
      "image/png": "[encoded data removed]",
      "text/plain": [
       "<Figure size 640x480 with 1 Axes>"
      ]
     },
     "metadata": {},
     "output_type": "display_data"
    }
   ],
   "source": [
    "df['Company'].value_counts().plot(kind='bar')"
   ]
  },
  {
   "cell_type": "code",
   "execution_count": 19,
   "id": "a925a9d7",
   "metadata": {},
   "outputs": [
    {
     "data": {
      "image/png": "[encoded data removed]",
      "text/plain": [
       "<Figure size 640x480 with 1 Axes>"
      ]
     },
     "metadata": {},
     "output_type": "display_data"
    }
   ],
   "source": [
    "sns.barplot(x=df['Company'],y=df['Price'])\n",
    "plt.xticks(rotation='vertical')\n",
    "plt.show()"
   ]
  },
  {
   "cell_type": "code",
   "execution_count": 20,
   "id": "d13df05e",
   "metadata": {},
   "outputs": [
    {
     "data": {
      "text/plain": [
       "<AxesSubplot:>"
      ]
     },
     "execution_count": 20,
     "metadata": {},
     "output_type": "execute_result"
    },
    {
     "data": {
      "image/png": "[encoded data removed]",
      "text/plain": [
       "<Figure size 640x480 with 1 Axes>"
      ]
     },
     "metadata": {},
     "output_type": "display_data"
    }
   ],
   "source": [
    "df['TypeName'].value_counts().plot(kind='bar')"
   ]
  },
  {
   "cell_type": "code",
   "execution_count": 21,
   "id": "cacf1cf7",
   "metadata": {},
   "outputs": [
    {
     "data": {
      "image/png": "[encoded data removed]",
      "text/plain": [
       "<Figure size 640x480 with 1 Axes>"
      ]
     },
     "metadata": {},
     "output_type": "display_data"
    }
   ],
   "source": [
    "sns.barplot(x=df['TypeName'],y=df['Price'])\n",
    "plt.xticks(rotation=\"vertical\")\n",
    "plt.show()"
   ]
  },
  {
   "cell_type": "code",
   "execution_count": 22,
   "id": "0076e077",
   "metadata": {},
   "outputs": [
    {
     "data": {
      "text/plain": [
       "Full HD 1920x1080                                505\n",
       "1366x768                                         262\n",
       "IPS Panel Full HD 1920x1080                      226\n",
       "IPS Panel Full HD / Touchscreen 1920x1080         51\n",
       "Full HD / Touchscreen 1920x1080                   47\n",
       "1600x900                                          23\n",
       "Touchscreen 1366x768                              16\n",
       "Quad HD+ / Touchscreen 3200x1800                  15\n",
       "IPS Panel 4K Ultra HD 3840x2160                   12\n",
       "IPS Panel 4K Ultra HD / Touchscreen 3840x2160     11\n",
       "4K Ultra HD / Touchscreen 3840x2160               10\n",
       "4K Ultra HD 3840x2160                              7\n",
       "Touchscreen 2560x1440                              7\n",
       "IPS Panel 1366x768                                 7\n",
       "IPS Panel Retina Display 2560x1600                 6\n",
       "IPS Panel Retina Display 2304x1440                 6\n",
       "Touchscreen 2256x1504                              6\n",
       "IPS Panel Touchscreen 2560x1440                    5\n",
       "IPS Panel Quad HD+ / Touchscreen 3200x1800         4\n",
       "IPS Panel Touchscreen 1920x1200                    4\n",
       "1440x900                                           4\n",
       "IPS Panel Retina Display 2880x1800                 4\n",
       "IPS Panel 2560x1440                                4\n",
       "2560x1440                                          3\n",
       "Quad HD+ 3200x1800                                 3\n",
       "1920x1080                                          3\n",
       "Touchscreen 2400x1600                              3\n",
       "IPS Panel Quad HD+ 2560x1440                       3\n",
       "IPS Panel Touchscreen 1366x768                     3\n",
       "IPS Panel Touchscreen / 4K Ultra HD 3840x2160      2\n",
       "IPS Panel Full HD 2160x1440                        2\n",
       "IPS Panel Quad HD+ 3200x1800                       2\n",
       "IPS Panel Retina Display 2736x1824                 1\n",
       "IPS Panel Full HD 1920x1200                        1\n",
       "IPS Panel Full HD 2560x1440                        1\n",
       "IPS Panel Full HD 1366x768                         1\n",
       "Touchscreen / Full HD 1920x1080                    1\n",
       "Touchscreen / Quad HD+ 3200x1800                   1\n",
       "Touchscreen / 4K Ultra HD 3840x2160                1\n",
       "IPS Panel Touchscreen 2400x1600                    1\n",
       "Name: ScreenResolution, dtype: int64"
      ]
     },
     "execution_count": 22,
     "metadata": {},
     "output_type": "execute_result"
    }
   ],
   "source": [
    "df['ScreenResolution'].value_counts()"
   ]
  },
  {
   "cell_type": "code",
   "execution_count": 23,
   "id": "5ba21d01",
   "metadata": {},
   "outputs": [],
   "source": [
    "df['Touchscreen'] = df['ScreenResolution'].apply(lambda x:1 if 'Touchscreen' in x else 0)"
   ]
  },
  {
   "cell_type": "code",
   "execution_count": 24,
   "id": "b213eb63",
   "metadata": {
    "scrolled": false
   },
   "outputs": [
    {
     "data": {
      "text/html": [
       "<div>\n",
       "<style scoped>\n",
       "    .dataframe tbody tr th:only-of-type {\n",
       "        vertical-align: middle;\n",
       "    }\n",
       "\n",
       "    .dataframe tbody tr th {\n",
       "        vertical-align: top;\n",
       "    }\n",
       "\n",
       "    .dataframe thead th {\n",
       "        text-align: right;\n",
       "    }\n",
       "</style>\n",
       "<table border=\"1\" class=\"dataframe\">\n",
       "  <thead>\n",
       "    <tr style=\"text-align: right;\">\n",
       "      <th></th>\n",
       "      <th>Company</th>\n",
       "      <th>TypeName</th>\n",
       "      <th>Inches</th>\n",
       "      <th>ScreenResolution</th>\n",
       "      <th>Cpu</th>\n",
       "      <th>Ram</th>\n",
       "      <th>Memory</th>\n",
       "      <th>Gpu</th>\n",
       "      <th>OpSys</th>\n",
       "      <th>Weight</th>\n",
       "      <th>Price</th>\n",
       "      <th>Touchscreen</th>\n",
       "    </tr>\n",
       "  </thead>\n",
       "  <tbody>\n",
       "    <tr>\n",
       "      <th>665</th>\n",
       "      <td>Toshiba</td>\n",
       "      <td>Notebook</td>\n",
       "      <td>15.6</td>\n",
       "      <td>1366x768</td>\n",
       "      <td>Intel Core i3 6100U 2.1GHz</td>\n",
       "      <td>4</td>\n",
       "      <td>128GB SSD</td>\n",
       "      <td>Intel HD Graphics 520</td>\n",
       "      <td>Windows 10</td>\n",
       "      <td>2.10</td>\n",
       "      <td>26533.44</td>\n",
       "      <td>0</td>\n",
       "    </tr>\n",
       "    <tr>\n",
       "      <th>359</th>\n",
       "      <td>Dell</td>\n",
       "      <td>Notebook</td>\n",
       "      <td>14.0</td>\n",
       "      <td>Full HD 1920x1080</td>\n",
       "      <td>Intel Core i5 7300U 2.6GHz</td>\n",
       "      <td>8</td>\n",
       "      <td>256GB SSD</td>\n",
       "      <td>Intel HD Graphics 620</td>\n",
       "      <td>Windows 10</td>\n",
       "      <td>1.36</td>\n",
       "      <td>76030.56</td>\n",
       "      <td>0</td>\n",
       "    </tr>\n",
       "    <tr>\n",
       "      <th>366</th>\n",
       "      <td>Dell</td>\n",
       "      <td>Notebook</td>\n",
       "      <td>17.3</td>\n",
       "      <td>Full HD 1920x1080</td>\n",
       "      <td>Intel Core i5 8250U 1.6GHz</td>\n",
       "      <td>8</td>\n",
       "      <td>128GB SSD +  1TB HDD</td>\n",
       "      <td>AMD Radeon 530</td>\n",
       "      <td>Windows 10</td>\n",
       "      <td>2.80</td>\n",
       "      <td>57808.80</td>\n",
       "      <td>0</td>\n",
       "    </tr>\n",
       "    <tr>\n",
       "      <th>153</th>\n",
       "      <td>MSI</td>\n",
       "      <td>Gaming</td>\n",
       "      <td>17.3</td>\n",
       "      <td>Full HD 1920x1080</td>\n",
       "      <td>Intel Core i7 7700HQ 2.8GHz</td>\n",
       "      <td>16</td>\n",
       "      <td>256GB SSD +  1TB HDD</td>\n",
       "      <td>Nvidia GeForce GTX 1060</td>\n",
       "      <td>Windows 10</td>\n",
       "      <td>2.80</td>\n",
       "      <td>100699.20</td>\n",
       "      <td>0</td>\n",
       "    </tr>\n",
       "    <tr>\n",
       "      <th>1097</th>\n",
       "      <td>MSI</td>\n",
       "      <td>Gaming</td>\n",
       "      <td>17.3</td>\n",
       "      <td>Full HD 1920x1080</td>\n",
       "      <td>Intel Core i7 6700HQ 2.6GHz</td>\n",
       "      <td>8</td>\n",
       "      <td>256GB SSD</td>\n",
       "      <td>Nvidia GeForce GTX 965M</td>\n",
       "      <td>Windows 10</td>\n",
       "      <td>2.60</td>\n",
       "      <td>85194.72</td>\n",
       "      <td>0</td>\n",
       "    </tr>\n",
       "    <tr>\n",
       "      <th>434</th>\n",
       "      <td>Lenovo</td>\n",
       "      <td>Notebook</td>\n",
       "      <td>15.6</td>\n",
       "      <td>Full HD 1920x1080</td>\n",
       "      <td>Intel Core i7 7820HQ 2.9GHz</td>\n",
       "      <td>16</td>\n",
       "      <td>512GB SSD</td>\n",
       "      <td>Nvidia Quadro M2200M</td>\n",
       "      <td>Windows 10</td>\n",
       "      <td>2.50</td>\n",
       "      <td>130482.72</td>\n",
       "      <td>0</td>\n",
       "    </tr>\n",
       "  </tbody>\n",
       "</table>\n",
       "</div>"
      ],
      "text/plain": [
       "      Company  TypeName  Inches   ScreenResolution  \\\n",
       "665   Toshiba  Notebook    15.6           1366x768   \n",
       "359      Dell  Notebook    14.0  Full HD 1920x1080   \n",
       "366      Dell  Notebook    17.3  Full HD 1920x1080   \n",
       "153       MSI    Gaming    17.3  Full HD 1920x1080   \n",
       "1097      MSI    Gaming    17.3  Full HD 1920x1080   \n",
       "434    Lenovo  Notebook    15.6  Full HD 1920x1080   \n",
       "\n",
       "                              Cpu  Ram                Memory  \\\n",
       "665    Intel Core i3 6100U 2.1GHz    4             128GB SSD   \n",
       "359    Intel Core i5 7300U 2.6GHz    8             256GB SSD   \n",
       "366    Intel Core i5 8250U 1.6GHz    8  128GB SSD +  1TB HDD   \n",
       "153   Intel Core i7 7700HQ 2.8GHz   16  256GB SSD +  1TB HDD   \n",
       "1097  Intel Core i7 6700HQ 2.6GHz    8             256GB SSD   \n",
       "434   Intel Core i7 7820HQ 2.9GHz   16             512GB SSD   \n",
       "\n",
       "                          Gpu       OpSys  Weight      Price  Touchscreen  \n",
       "665     Intel HD Graphics 520  Windows 10    2.10   26533.44            0  \n",
       "359     Intel HD Graphics 620  Windows 10    1.36   76030.56            0  \n",
       "366            AMD Radeon 530  Windows 10    2.80   57808.80            0  \n",
       "153   Nvidia GeForce GTX 1060  Windows 10    2.80  100699.20            0  \n",
       "1097  Nvidia GeForce GTX 965M  Windows 10    2.60   85194.72            0  \n",
       "434      Nvidia Quadro M2200M  Windows 10    2.50  130482.72            0  "
      ]
     },
     "execution_count": 24,
     "metadata": {},
     "output_type": "execute_result"
    }
   ],
   "source": [
    "df.sample(6)"
   ]
  },
  {
   "cell_type": "code",
   "execution_count": 25,
   "id": "57c76baf",
   "metadata": {},
   "outputs": [
    {
     "data": {
      "text/plain": [
       "<AxesSubplot:xlabel='Touchscreen', ylabel='Price'>"
      ]
     },
     "execution_count": 25,
     "metadata": {},
     "output_type": "execute_result"
    },
    {
     "data": {
      "image/png": "[encoded data removed]",
      "text/plain": [
       "<Figure size 640x480 with 1 Axes>"
      ]
     },
     "metadata": {},
     "output_type": "display_data"
    }
   ],
   "source": [
    "sns.barplot(x=df['Touchscreen'],y=df['Price'])"
   ]
  },
  {
   "cell_type": "code",
   "execution_count": 26,
   "id": "bc35c7dc",
   "metadata": {},
   "outputs": [],
   "source": [
    "df['Ips'] = df['ScreenResolution'].apply(lambda x:1 if 'IPS' in x else 0)"
   ]
  },
  {
   "cell_type": "code",
   "execution_count": 27,
   "id": "fbd7fadb",
   "metadata": {},
   "outputs": [
    {
     "data": {
      "text/html": [
       "<div>\n",
       "<style scoped>\n",
       "    .dataframe tbody tr th:only-of-type {\n",
       "        vertical-align: middle;\n",
       "    }\n",
       "\n",
       "    .dataframe tbody tr th {\n",
       "        vertical-align: top;\n",
       "    }\n",
       "\n",
       "    .dataframe thead th {\n",
       "        text-align: right;\n",
       "    }\n",
       "</style>\n",
       "<table border=\"1\" class=\"dataframe\">\n",
       "  <thead>\n",
       "    <tr style=\"text-align: right;\">\n",
       "      <th></th>\n",
       "      <th>Company</th>\n",
       "      <th>TypeName</th>\n",
       "      <th>Inches</th>\n",
       "      <th>ScreenResolution</th>\n",
       "      <th>Cpu</th>\n",
       "      <th>Ram</th>\n",
       "      <th>Memory</th>\n",
       "      <th>Gpu</th>\n",
       "      <th>OpSys</th>\n",
       "      <th>Weight</th>\n",
       "      <th>Price</th>\n",
       "      <th>Touchscreen</th>\n",
       "      <th>Ips</th>\n",
       "    </tr>\n",
       "  </thead>\n",
       "  <tbody>\n",
       "    <tr>\n",
       "      <th>0</th>\n",
       "      <td>Apple</td>\n",
       "      <td>Ultrabook</td>\n",
       "      <td>13.3</td>\n",
       "      <td>IPS Panel Retina Display 2560x1600</td>\n",
       "      <td>Intel Core i5 2.3GHz</td>\n",
       "      <td>8</td>\n",
       "      <td>128GB SSD</td>\n",
       "      <td>Intel Iris Plus Graphics 640</td>\n",
       "      <td>macOS</td>\n",
       "      <td>1.37</td>\n",
       "      <td>71378.6832</td>\n",
       "      <td>0</td>\n",
       "      <td>1</td>\n",
       "    </tr>\n",
       "    <tr>\n",
       "      <th>1</th>\n",
       "      <td>Apple</td>\n",
       "      <td>Ultrabook</td>\n",
       "      <td>13.3</td>\n",
       "      <td>1440x900</td>\n",
       "      <td>Intel Core i5 1.8GHz</td>\n",
       "      <td>8</td>\n",
       "      <td>128GB Flash Storage</td>\n",
       "      <td>Intel HD Graphics 6000</td>\n",
       "      <td>macOS</td>\n",
       "      <td>1.34</td>\n",
       "      <td>47895.5232</td>\n",
       "      <td>0</td>\n",
       "      <td>0</td>\n",
       "    </tr>\n",
       "  </tbody>\n",
       "</table>\n",
       "</div>"
      ],
      "text/plain": [
       "  Company   TypeName  Inches                    ScreenResolution  \\\n",
       "0   Apple  Ultrabook    13.3  IPS Panel Retina Display 2560x1600   \n",
       "1   Apple  Ultrabook    13.3                            1440x900   \n",
       "\n",
       "                    Cpu  Ram               Memory  \\\n",
       "0  Intel Core i5 2.3GHz    8            128GB SSD   \n",
       "1  Intel Core i5 1.8GHz    8  128GB Flash Storage   \n",
       "\n",
       "                            Gpu  OpSys  Weight       Price  Touchscreen  Ips  \n",
       "0  Intel Iris Plus Graphics 640  macOS    1.37  71378.6832            0    1  \n",
       "1        Intel HD Graphics 6000  macOS    1.34  47895.5232            0    0  "
      ]
     },
     "execution_count": 27,
     "metadata": {},
     "output_type": "execute_result"
    }
   ],
   "source": [
    "df.head(2)"
   ]
  },
  {
   "cell_type": "code",
   "execution_count": 28,
   "id": "43c1c714",
   "metadata": {},
   "outputs": [
    {
     "data": {
      "text/plain": [
       "<AxesSubplot:xlabel='Ips', ylabel='Price'>"
      ]
     },
     "execution_count": 28,
     "metadata": {},
     "output_type": "execute_result"
    },
    {
     "data": {
      "image/png": "[encoded data removed]",
      "text/plain": [
       "<Figure size 640x480 with 1 Axes>"
      ]
     },
     "metadata": {},
     "output_type": "display_data"
    }
   ],
   "source": [
    "sns.barplot(x=df['Ips'],y=df['Price'])"
   ]
  },
  {
   "cell_type": "code",
   "execution_count": 29,
   "id": "9ccfcfcc",
   "metadata": {},
   "outputs": [],
   "source": [
    "scr = df['ScreenResolution'].str.split('x',n=1,expand=True)"
   ]
  },
  {
   "cell_type": "code",
   "execution_count": 30,
   "id": "d7a3dfdb",
   "metadata": {},
   "outputs": [],
   "source": [
    "df['X_res'] = scr[0]\n",
    "df['Y_res'] = scr[1]"
   ]
  },
  {
   "cell_type": "code",
   "execution_count": 31,
   "id": "c1d6851e",
   "metadata": {},
   "outputs": [],
   "source": [
    "df.drop(columns=['ScreenResolution'],inplace=True)"
   ]
  },
  {
   "cell_type": "code",
   "execution_count": 32,
   "id": "887fa918",
   "metadata": {},
   "outputs": [
    {
     "data": {
      "text/html": [
       "<div>\n",
       "<style scoped>\n",
       "    .dataframe tbody tr th:only-of-type {\n",
       "        vertical-align: middle;\n",
       "    }\n",
       "\n",
       "    .dataframe tbody tr th {\n",
       "        vertical-align: top;\n",
       "    }\n",
       "\n",
       "    .dataframe thead th {\n",
       "        text-align: right;\n",
       "    }\n",
       "</style>\n",
       "<table border=\"1\" class=\"dataframe\">\n",
       "  <thead>\n",
       "    <tr style=\"text-align: right;\">\n",
       "      <th></th>\n",
       "      <th>Company</th>\n",
       "      <th>TypeName</th>\n",
       "      <th>Inches</th>\n",
       "      <th>Cpu</th>\n",
       "      <th>Ram</th>\n",
       "      <th>Memory</th>\n",
       "      <th>Gpu</th>\n",
       "      <th>OpSys</th>\n",
       "      <th>Weight</th>\n",
       "      <th>Price</th>\n",
       "      <th>Touchscreen</th>\n",
       "      <th>Ips</th>\n",
       "      <th>X_res</th>\n",
       "      <th>Y_res</th>\n",
       "    </tr>\n",
       "  </thead>\n",
       "  <tbody>\n",
       "    <tr>\n",
       "      <th>0</th>\n",
       "      <td>Apple</td>\n",
       "      <td>Ultrabook</td>\n",
       "      <td>13.3</td>\n",
       "      <td>Intel Core i5 2.3GHz</td>\n",
       "      <td>8</td>\n",
       "      <td>128GB SSD</td>\n",
       "      <td>Intel Iris Plus Graphics 640</td>\n",
       "      <td>macOS</td>\n",
       "      <td>1.37</td>\n",
       "      <td>71378.6832</td>\n",
       "      <td>0</td>\n",
       "      <td>1</td>\n",
       "      <td>IPS Panel Retina Display 2560</td>\n",
       "      <td>1600</td>\n",
       "    </tr>\n",
       "    <tr>\n",
       "      <th>1</th>\n",
       "      <td>Apple</td>\n",
       "      <td>Ultrabook</td>\n",
       "      <td>13.3</td>\n",
       "      <td>Intel Core i5 1.8GHz</td>\n",
       "      <td>8</td>\n",
       "      <td>128GB Flash Storage</td>\n",
       "      <td>Intel HD Graphics 6000</td>\n",
       "      <td>macOS</td>\n",
       "      <td>1.34</td>\n",
       "      <td>47895.5232</td>\n",
       "      <td>0</td>\n",
       "      <td>0</td>\n",
       "      <td>1440</td>\n",
       "      <td>900</td>\n",
       "    </tr>\n",
       "  </tbody>\n",
       "</table>\n",
       "</div>"
      ],
      "text/plain": [
       "  Company   TypeName  Inches                   Cpu  Ram               Memory  \\\n",
       "0   Apple  Ultrabook    13.3  Intel Core i5 2.3GHz    8            128GB SSD   \n",
       "1   Apple  Ultrabook    13.3  Intel Core i5 1.8GHz    8  128GB Flash Storage   \n",
       "\n",
       "                            Gpu  OpSys  Weight       Price  Touchscreen  Ips  \\\n",
       "0  Intel Iris Plus Graphics 640  macOS    1.37  71378.6832            0    1   \n",
       "1        Intel HD Graphics 6000  macOS    1.34  47895.5232            0    0   \n",
       "\n",
       "                           X_res Y_res  \n",
       "0  IPS Panel Retina Display 2560  1600  \n",
       "1                           1440   900  "
      ]
     },
     "execution_count": 32,
     "metadata": {},
     "output_type": "execute_result"
    }
   ],
   "source": [
    "df.head(2)"
   ]
  },
  {
   "cell_type": "code",
   "execution_count": 33,
   "id": "58de337f",
   "metadata": {},
   "outputs": [],
   "source": [
    "df['X_res'] = df['X_res'].str.replace(',','').str.findall(r'(\\d+\\.?\\d+)').apply(lambda x:x[0])"
   ]
  },
  {
   "cell_type": "code",
   "execution_count": 34,
   "id": "743cbd0e",
   "metadata": {},
   "outputs": [
    {
     "data": {
      "text/html": [
       "<div>\n",
       "<style scoped>\n",
       "    .dataframe tbody tr th:only-of-type {\n",
       "        vertical-align: middle;\n",
       "    }\n",
       "\n",
       "    .dataframe tbody tr th {\n",
       "        vertical-align: top;\n",
       "    }\n",
       "\n",
       "    .dataframe thead th {\n",
       "        text-align: right;\n",
       "    }\n",
       "</style>\n",
       "<table border=\"1\" class=\"dataframe\">\n",
       "  <thead>\n",
       "    <tr style=\"text-align: right;\">\n",
       "      <th></th>\n",
       "      <th>Company</th>\n",
       "      <th>TypeName</th>\n",
       "      <th>Inches</th>\n",
       "      <th>Cpu</th>\n",
       "      <th>Ram</th>\n",
       "      <th>Memory</th>\n",
       "      <th>Gpu</th>\n",
       "      <th>OpSys</th>\n",
       "      <th>Weight</th>\n",
       "      <th>Price</th>\n",
       "      <th>Touchscreen</th>\n",
       "      <th>Ips</th>\n",
       "      <th>X_res</th>\n",
       "      <th>Y_res</th>\n",
       "    </tr>\n",
       "  </thead>\n",
       "  <tbody>\n",
       "    <tr>\n",
       "      <th>0</th>\n",
       "      <td>Apple</td>\n",
       "      <td>Ultrabook</td>\n",
       "      <td>13.3</td>\n",
       "      <td>Intel Core i5 2.3GHz</td>\n",
       "      <td>8</td>\n",
       "      <td>128GB SSD</td>\n",
       "      <td>Intel Iris Plus Graphics 640</td>\n",
       "      <td>macOS</td>\n",
       "      <td>1.37</td>\n",
       "      <td>71378.6832</td>\n",
       "      <td>0</td>\n",
       "      <td>1</td>\n",
       "      <td>2560</td>\n",
       "      <td>1600</td>\n",
       "    </tr>\n",
       "    <tr>\n",
       "      <th>1</th>\n",
       "      <td>Apple</td>\n",
       "      <td>Ultrabook</td>\n",
       "      <td>13.3</td>\n",
       "      <td>Intel Core i5 1.8GHz</td>\n",
       "      <td>8</td>\n",
       "      <td>128GB Flash Storage</td>\n",
       "      <td>Intel HD Graphics 6000</td>\n",
       "      <td>macOS</td>\n",
       "      <td>1.34</td>\n",
       "      <td>47895.5232</td>\n",
       "      <td>0</td>\n",
       "      <td>0</td>\n",
       "      <td>1440</td>\n",
       "      <td>900</td>\n",
       "    </tr>\n",
       "  </tbody>\n",
       "</table>\n",
       "</div>"
      ],
      "text/plain": [
       "  Company   TypeName  Inches                   Cpu  Ram               Memory  \\\n",
       "0   Apple  Ultrabook    13.3  Intel Core i5 2.3GHz    8            128GB SSD   \n",
       "1   Apple  Ultrabook    13.3  Intel Core i5 1.8GHz    8  128GB Flash Storage   \n",
       "\n",
       "                            Gpu  OpSys  Weight       Price  Touchscreen  Ips  \\\n",
       "0  Intel Iris Plus Graphics 640  macOS    1.37  71378.6832            0    1   \n",
       "1        Intel HD Graphics 6000  macOS    1.34  47895.5232            0    0   \n",
       "\n",
       "  X_res Y_res  \n",
       "0  2560  1600  \n",
       "1  1440   900  "
      ]
     },
     "execution_count": 34,
     "metadata": {},
     "output_type": "execute_result"
    }
   ],
   "source": [
    "df.head(2)"
   ]
  },
  {
   "cell_type": "code",
   "execution_count": 35,
   "id": "dcc8144f",
   "metadata": {},
   "outputs": [],
   "source": [
    "df['X_res'] = df['X_res'].astype('int')\n",
    "df['Y_res'] = df['Y_res'].astype('int')"
   ]
  },
  {
   "cell_type": "code",
   "execution_count": 36,
   "id": "c25a8724",
   "metadata": {},
   "outputs": [],
   "source": [
    "df['ppi'] = (((df['X_res']**2) + (df['Y_res']**2))**0.5/df['Inches']).astype('float')"
   ]
  },
  {
   "cell_type": "code",
   "execution_count": 37,
   "id": "ab48b08c",
   "metadata": {},
   "outputs": [
    {
     "data": {
      "text/html": [
       "<div>\n",
       "<style scoped>\n",
       "    .dataframe tbody tr th:only-of-type {\n",
       "        vertical-align: middle;\n",
       "    }\n",
       "\n",
       "    .dataframe tbody tr th {\n",
       "        vertical-align: top;\n",
       "    }\n",
       "\n",
       "    .dataframe thead th {\n",
       "        text-align: right;\n",
       "    }\n",
       "</style>\n",
       "<table border=\"1\" class=\"dataframe\">\n",
       "  <thead>\n",
       "    <tr style=\"text-align: right;\">\n",
       "      <th></th>\n",
       "      <th>Company</th>\n",
       "      <th>TypeName</th>\n",
       "      <th>Inches</th>\n",
       "      <th>Cpu</th>\n",
       "      <th>Ram</th>\n",
       "      <th>Memory</th>\n",
       "      <th>Gpu</th>\n",
       "      <th>OpSys</th>\n",
       "      <th>Weight</th>\n",
       "      <th>Price</th>\n",
       "      <th>Touchscreen</th>\n",
       "      <th>Ips</th>\n",
       "      <th>X_res</th>\n",
       "      <th>Y_res</th>\n",
       "      <th>ppi</th>\n",
       "    </tr>\n",
       "  </thead>\n",
       "  <tbody>\n",
       "    <tr>\n",
       "      <th>0</th>\n",
       "      <td>Apple</td>\n",
       "      <td>Ultrabook</td>\n",
       "      <td>13.3</td>\n",
       "      <td>Intel Core i5 2.3GHz</td>\n",
       "      <td>8</td>\n",
       "      <td>128GB SSD</td>\n",
       "      <td>Intel Iris Plus Graphics 640</td>\n",
       "      <td>macOS</td>\n",
       "      <td>1.37</td>\n",
       "      <td>71378.6832</td>\n",
       "      <td>0</td>\n",
       "      <td>1</td>\n",
       "      <td>2560</td>\n",
       "      <td>1600</td>\n",
       "      <td>226.983005</td>\n",
       "    </tr>\n",
       "    <tr>\n",
       "      <th>1</th>\n",
       "      <td>Apple</td>\n",
       "      <td>Ultrabook</td>\n",
       "      <td>13.3</td>\n",
       "      <td>Intel Core i5 1.8GHz</td>\n",
       "      <td>8</td>\n",
       "      <td>128GB Flash Storage</td>\n",
       "      <td>Intel HD Graphics 6000</td>\n",
       "      <td>macOS</td>\n",
       "      <td>1.34</td>\n",
       "      <td>47895.5232</td>\n",
       "      <td>0</td>\n",
       "      <td>0</td>\n",
       "      <td>1440</td>\n",
       "      <td>900</td>\n",
       "      <td>127.677940</td>\n",
       "    </tr>\n",
       "    <tr>\n",
       "      <th>2</th>\n",
       "      <td>HP</td>\n",
       "      <td>Notebook</td>\n",
       "      <td>15.6</td>\n",
       "      <td>Intel Core i5 7200U 2.5GHz</td>\n",
       "      <td>8</td>\n",
       "      <td>256GB SSD</td>\n",
       "      <td>Intel HD Graphics 620</td>\n",
       "      <td>No OS</td>\n",
       "      <td>1.86</td>\n",
       "      <td>30636.0000</td>\n",
       "      <td>0</td>\n",
       "      <td>0</td>\n",
       "      <td>1920</td>\n",
       "      <td>1080</td>\n",
       "      <td>141.211998</td>\n",
       "    </tr>\n",
       "    <tr>\n",
       "      <th>3</th>\n",
       "      <td>Apple</td>\n",
       "      <td>Ultrabook</td>\n",
       "      <td>15.4</td>\n",
       "      <td>Intel Core i7 2.7GHz</td>\n",
       "      <td>16</td>\n",
       "      <td>512GB SSD</td>\n",
       "      <td>AMD Radeon Pro 455</td>\n",
       "      <td>macOS</td>\n",
       "      <td>1.83</td>\n",
       "      <td>135195.3360</td>\n",
       "      <td>0</td>\n",
       "      <td>1</td>\n",
       "      <td>2880</td>\n",
       "      <td>1800</td>\n",
       "      <td>220.534624</td>\n",
       "    </tr>\n",
       "    <tr>\n",
       "      <th>4</th>\n",
       "      <td>Apple</td>\n",
       "      <td>Ultrabook</td>\n",
       "      <td>13.3</td>\n",
       "      <td>Intel Core i5 3.1GHz</td>\n",
       "      <td>8</td>\n",
       "      <td>256GB SSD</td>\n",
       "      <td>Intel Iris Plus Graphics 650</td>\n",
       "      <td>macOS</td>\n",
       "      <td>1.37</td>\n",
       "      <td>96095.8080</td>\n",
       "      <td>0</td>\n",
       "      <td>1</td>\n",
       "      <td>2560</td>\n",
       "      <td>1600</td>\n",
       "      <td>226.983005</td>\n",
       "    </tr>\n",
       "  </tbody>\n",
       "</table>\n",
       "</div>"
      ],
      "text/plain": [
       "  Company   TypeName  Inches                         Cpu  Ram  \\\n",
       "0   Apple  Ultrabook    13.3        Intel Core i5 2.3GHz    8   \n",
       "1   Apple  Ultrabook    13.3        Intel Core i5 1.8GHz    8   \n",
       "2      HP   Notebook    15.6  Intel Core i5 7200U 2.5GHz    8   \n",
       "3   Apple  Ultrabook    15.4        Intel Core i7 2.7GHz   16   \n",
       "4   Apple  Ultrabook    13.3        Intel Core i5 3.1GHz    8   \n",
       "\n",
       "                Memory                           Gpu  OpSys  Weight  \\\n",
       "0            128GB SSD  Intel Iris Plus Graphics 640  macOS    1.37   \n",
       "1  128GB Flash Storage        Intel HD Graphics 6000  macOS    1.34   \n",
       "2            256GB SSD         Intel HD Graphics 620  No OS    1.86   \n",
       "3            512GB SSD            AMD Radeon Pro 455  macOS    1.83   \n",
       "4            256GB SSD  Intel Iris Plus Graphics 650  macOS    1.37   \n",
       "\n",
       "         Price  Touchscreen  Ips  X_res  Y_res         ppi  \n",
       "0   71378.6832            0    1   2560   1600  226.983005  \n",
       "1   47895.5232            0    0   1440    900  127.677940  \n",
       "2   30636.0000            0    0   1920   1080  141.211998  \n",
       "3  135195.3360            0    1   2880   1800  220.534624  \n",
       "4   96095.8080            0    1   2560   1600  226.983005  "
      ]
     },
     "execution_count": 37,
     "metadata": {},
     "output_type": "execute_result"
    }
   ],
   "source": [
    "df.head()"
   ]
  },
  {
   "cell_type": "code",
   "execution_count": 38,
   "id": "390dfede",
   "metadata": {},
   "outputs": [
    {
     "data": {
      "text/plain": [
       "Inches         0.066990\n",
       "Ram            0.740106\n",
       "Weight         0.212192\n",
       "Price          1.000000\n",
       "Touchscreen    0.188631\n",
       "Ips            0.250358\n",
       "X_res          0.552074\n",
       "Y_res          0.548111\n",
       "ppi            0.469539\n",
       "Name: Price, dtype: float64"
      ]
     },
     "execution_count": 38,
     "metadata": {},
     "output_type": "execute_result"
    }
   ],
   "source": [
    "df.corr()['Price']"
   ]
  },
  {
   "cell_type": "code",
   "execution_count": 39,
   "id": "2b32fde9",
   "metadata": {},
   "outputs": [],
   "source": [
    "df.drop(['Inches'],axis=1, inplace=True)"
   ]
  },
  {
   "cell_type": "code",
   "execution_count": 40,
   "id": "7d807900",
   "metadata": {},
   "outputs": [
    {
     "data": {
      "text/plain": [
       "Intel Core i5 7200U 2.5GHz     190\n",
       "Intel Core i7 7700HQ 2.8GHz    146\n",
       "Intel Core i7 7500U 2.7GHz     132\n",
       "Intel Core i7 8550U 1.8GHz      73\n",
       "Intel Core i5 8250U 1.6GHz      72\n",
       "                              ... \n",
       "Intel Core M M3-6Y30 0.9GHz      1\n",
       "AMD A9-Series 9420 2.9GHz        1\n",
       "Intel Core i5 2.9GHz             1\n",
       "AMD A6-Series 7310 2GHz          1\n",
       "AMD A9-Series 9410 2.9GHz        1\n",
       "Name: Cpu, Length: 118, dtype: int64"
      ]
     },
     "execution_count": 40,
     "metadata": {},
     "output_type": "execute_result"
    }
   ],
   "source": [
    "df['Cpu'].value_counts()"
   ]
  },
  {
   "cell_type": "code",
   "execution_count": 41,
   "id": "776063b1",
   "metadata": {},
   "outputs": [],
   "source": [
    "df['Cpu Name'] = df['Cpu'].apply(lambda x:\" \".join(x.split()[0:3]))"
   ]
  },
  {
   "cell_type": "code",
   "execution_count": 42,
   "id": "e95bbf10",
   "metadata": {},
   "outputs": [],
   "source": [
    "def processor(text):\n",
    "    if text == 'Intel Core i7' or text == 'Intel Core i5' or text == 'Intel Core i3':\n",
    "        return text\n",
    "    else:\n",
    "        if text.split()[0] == 'Intel':\n",
    "            return 'Other Intel Processor'\n",
    "        else:\n",
    "            return 'AMD Processor'"
   ]
  },
  {
   "cell_type": "code",
   "execution_count": 43,
   "id": "a87fa44f",
   "metadata": {},
   "outputs": [],
   "source": [
    "df['Cpu brand'] = df['Cpu Name'].apply(processor)"
   ]
  },
  {
   "cell_type": "code",
   "execution_count": 44,
   "id": "65c71a47",
   "metadata": {},
   "outputs": [
    {
     "data": {
      "text/html": [
       "<div>\n",
       "<style scoped>\n",
       "    .dataframe tbody tr th:only-of-type {\n",
       "        vertical-align: middle;\n",
       "    }\n",
       "\n",
       "    .dataframe tbody tr th {\n",
       "        vertical-align: top;\n",
       "    }\n",
       "\n",
       "    .dataframe thead th {\n",
       "        text-align: right;\n",
       "    }\n",
       "</style>\n",
       "<table border=\"1\" class=\"dataframe\">\n",
       "  <thead>\n",
       "    <tr style=\"text-align: right;\">\n",
       "      <th></th>\n",
       "      <th>Company</th>\n",
       "      <th>TypeName</th>\n",
       "      <th>Cpu</th>\n",
       "      <th>Ram</th>\n",
       "      <th>Memory</th>\n",
       "      <th>Gpu</th>\n",
       "      <th>OpSys</th>\n",
       "      <th>Weight</th>\n",
       "      <th>Price</th>\n",
       "      <th>Touchscreen</th>\n",
       "      <th>Ips</th>\n",
       "      <th>X_res</th>\n",
       "      <th>Y_res</th>\n",
       "      <th>ppi</th>\n",
       "      <th>Cpu Name</th>\n",
       "      <th>Cpu brand</th>\n",
       "    </tr>\n",
       "  </thead>\n",
       "  <tbody>\n",
       "    <tr>\n",
       "      <th>0</th>\n",
       "      <td>Apple</td>\n",
       "      <td>Ultrabook</td>\n",
       "      <td>Intel Core i5 2.3GHz</td>\n",
       "      <td>8</td>\n",
       "      <td>128GB SSD</td>\n",
       "      <td>Intel Iris Plus Graphics 640</td>\n",
       "      <td>macOS</td>\n",
       "      <td>1.37</td>\n",
       "      <td>71378.6832</td>\n",
       "      <td>0</td>\n",
       "      <td>1</td>\n",
       "      <td>2560</td>\n",
       "      <td>1600</td>\n",
       "      <td>226.983005</td>\n",
       "      <td>Intel Core i5</td>\n",
       "      <td>Intel Core i5</td>\n",
       "    </tr>\n",
       "    <tr>\n",
       "      <th>1</th>\n",
       "      <td>Apple</td>\n",
       "      <td>Ultrabook</td>\n",
       "      <td>Intel Core i5 1.8GHz</td>\n",
       "      <td>8</td>\n",
       "      <td>128GB Flash Storage</td>\n",
       "      <td>Intel HD Graphics 6000</td>\n",
       "      <td>macOS</td>\n",
       "      <td>1.34</td>\n",
       "      <td>47895.5232</td>\n",
       "      <td>0</td>\n",
       "      <td>0</td>\n",
       "      <td>1440</td>\n",
       "      <td>900</td>\n",
       "      <td>127.677940</td>\n",
       "      <td>Intel Core i5</td>\n",
       "      <td>Intel Core i5</td>\n",
       "    </tr>\n",
       "  </tbody>\n",
       "</table>\n",
       "</div>"
      ],
      "text/plain": [
       "  Company   TypeName                   Cpu  Ram               Memory  \\\n",
       "0   Apple  Ultrabook  Intel Core i5 2.3GHz    8            128GB SSD   \n",
       "1   Apple  Ultrabook  Intel Core i5 1.8GHz    8  128GB Flash Storage   \n",
       "\n",
       "                            Gpu  OpSys  Weight       Price  Touchscreen  Ips  \\\n",
       "0  Intel Iris Plus Graphics 640  macOS    1.37  71378.6832            0    1   \n",
       "1        Intel HD Graphics 6000  macOS    1.34  47895.5232            0    0   \n",
       "\n",
       "   X_res  Y_res         ppi       Cpu Name      Cpu brand  \n",
       "0   2560   1600  226.983005  Intel Core i5  Intel Core i5  \n",
       "1   1440    900  127.677940  Intel Core i5  Intel Core i5  "
      ]
     },
     "execution_count": 44,
     "metadata": {},
     "output_type": "execute_result"
    }
   ],
   "source": [
    "df.head(2)"
   ]
  },
  {
   "cell_type": "code",
   "execution_count": 45,
   "id": "a2175b6a",
   "metadata": {},
   "outputs": [
    {
     "data": {
      "text/plain": [
       "(array([0, 1, 2, 3, 4]),\n",
       " [Text(0, 0, 'Intel Core i5'),\n",
       "  Text(1, 0, 'Intel Core i7'),\n",
       "  Text(2, 0, 'AMD Processor'),\n",
       "  Text(3, 0, 'Intel Core i3'),\n",
       "  Text(4, 0, 'Other Intel Processor')])"
      ]
     },
     "execution_count": 45,
     "metadata": {},
     "output_type": "execute_result"
    },
    {
     "data": {
      "image/png": "[encoded data removed]",
      "text/plain": [
       "<Figure size 640x480 with 1 Axes>"
      ]
     },
     "metadata": {},
     "output_type": "display_data"
    }
   ],
   "source": [
    "sns.barplot(x=df['Cpu brand'],y=df['Price'])\n",
    "plt.xticks(rotation='vertical')"
   ]
  },
  {
   "cell_type": "code",
   "execution_count": 46,
   "id": "8c9af0e4",
   "metadata": {},
   "outputs": [],
   "source": [
    "df.drop(columns=['Cpu','Cpu Name'],inplace=True)"
   ]
  },
  {
   "cell_type": "code",
   "execution_count": 47,
   "id": "7d67c2a2",
   "metadata": {},
   "outputs": [
    {
     "data": {
      "text/plain": [
       "<AxesSubplot:>"
      ]
     },
     "execution_count": 47,
     "metadata": {},
     "output_type": "execute_result"
    },
    {
     "data": {
      "image/png": "[encoded data removed]",
      "text/plain": [
       "<Figure size 640x480 with 1 Axes>"
      ]
     },
     "metadata": {},
     "output_type": "display_data"
    }
   ],
   "source": [
    "df['Ram'].value_counts().plot(kind='bar')"
   ]
  },
  {
   "cell_type": "code",
   "execution_count": 48,
   "id": "8623c7ab",
   "metadata": {},
   "outputs": [
    {
     "data": {
      "text/plain": [
       "(array([0, 1, 2, 3, 4, 5, 6, 7, 8]),\n",
       " [Text(0, 0, '2'),\n",
       "  Text(1, 0, '4'),\n",
       "  Text(2, 0, '6'),\n",
       "  Text(3, 0, '8'),\n",
       "  Text(4, 0, '12'),\n",
       "  Text(5, 0, '16'),\n",
       "  Text(6, 0, '24'),\n",
       "  Text(7, 0, '32'),\n",
       "  Text(8, 0, '64')])"
      ]
     },
     "execution_count": 48,
     "metadata": {},
     "output_type": "execute_result"
    },
    {
     "data": {
      "image/png": "[encoded data removed]",
      "text/plain": [
       "<Figure size 640x480 with 1 Axes>"
      ]
     },
     "metadata": {},
     "output_type": "display_data"
    }
   ],
   "source": [
    "sns.barplot(x=df['Ram'],y=df['Price'])\n",
    "plt.xticks(rotation='vertical')"
   ]
  },
  {
   "cell_type": "code",
   "execution_count": 49,
   "id": "6a088716",
   "metadata": {},
   "outputs": [
    {
     "data": {
      "text/plain": [
       "256GB SSD                        412\n",
       "1TB HDD                          215\n",
       "500GB HDD                        123\n",
       "512GB SSD                        114\n",
       "128GB SSD +  1TB HDD              94\n",
       "128GB SSD                         74\n",
       "256GB SSD +  1TB HDD              73\n",
       "32GB Flash Storage                36\n",
       "2TB HDD                           16\n",
       "512GB SSD +  1TB HDD              14\n",
       "1TB SSD                           14\n",
       "64GB Flash Storage                13\n",
       "256GB SSD +  2TB HDD              10\n",
       "256GB Flash Storage                8\n",
       "16GB Flash Storage                 7\n",
       "1.0TB Hybrid                       7\n",
       "32GB SSD                           6\n",
       "180GB SSD                          5\n",
       "128GB Flash Storage                4\n",
       "512GB SSD +  2TB HDD               3\n",
       "16GB SSD                           3\n",
       "512GB Flash Storage                2\n",
       "1TB SSD +  1TB HDD                 2\n",
       "256GB SSD +  500GB HDD             2\n",
       "128GB SSD +  2TB HDD               2\n",
       "256GB SSD +  256GB SSD             2\n",
       "512GB SSD +  256GB SSD             1\n",
       "512GB SSD +  512GB SSD             1\n",
       "64GB Flash Storage +  1TB HDD      1\n",
       "1TB HDD +  1TB HDD                 1\n",
       "32GB HDD                           1\n",
       "64GB SSD                           1\n",
       "128GB HDD                          1\n",
       "240GB SSD                          1\n",
       "8GB SSD                            1\n",
       "508GB Hybrid                       1\n",
       "1.0TB HDD                          1\n",
       "512GB SSD +  1.0TB Hybrid          1\n",
       "256GB SSD +  1.0TB Hybrid          1\n",
       "Name: Memory, dtype: int64"
      ]
     },
     "execution_count": 49,
     "metadata": {},
     "output_type": "execute_result"
    }
   ],
   "source": [
    "df['Memory'].value_counts()"
   ]
  },
  {
   "cell_type": "code",
   "execution_count": 50,
   "id": "53115eab",
   "metadata": {},
   "outputs": [
    {
     "name": "stderr",
     "output_type": "stream",
     "text": [
      "C:\\Users\\AMITABH ANAND\\AppData\\Local\\Temp\\ipykernel_9548\\4186902617.py:16: FutureWarning: The default value of regex will change from True to False in a future version.\n",
      "  df['first'] = df['first'].str.replace(r'\\D', '')\n",
      "C:\\Users\\AMITABH ANAND\\AppData\\Local\\Temp\\ipykernel_9548\\4186902617.py:25: FutureWarning: The default value of regex will change from True to False in a future version.\n",
      "  df['second'] = df['second'].str.replace(r'\\D', '')\n"
     ]
    }
   ],
   "source": [
    "df['Memory'] = df['Memory'].astype(str).replace('\\.0', '', regex=True)\n",
    "df[\"Memory\"] = df[\"Memory\"].str.replace('GB', '')\n",
    "df[\"Memory\"] = df[\"Memory\"].str.replace('TB', '000')\n",
    "new = df[\"Memory\"].str.split(\"+\", n = 1, expand = True)\n",
    "\n",
    "df[\"first\"]= new[0]\n",
    "df[\"first\"]=df[\"first\"].str.strip()\n",
    "\n",
    "df[\"second\"]= new[1]\n",
    "\n",
    "df[\"Layer1HDD\"] = df[\"first\"].apply(lambda x: 1 if \"HDD\" in x else 0)\n",
    "df[\"Layer1SSD\"] = df[\"first\"].apply(lambda x: 1 if \"SSD\" in x else 0)\n",
    "df[\"Layer1Hybrid\"] = df[\"first\"].apply(lambda x: 1 if \"Hybrid\" in x else 0)\n",
    "df[\"Layer1Flash_Storage\"] = df[\"first\"].apply(lambda x: 1 if \"Flash Storage\" in x else 0)\n",
    "\n",
    "df['first'] = df['first'].str.replace(r'\\D', '')\n",
    "\n",
    "df[\"second\"].fillna(\"0\", inplace = True)\n",
    "\n",
    "df[\"Layer2HDD\"] = df[\"second\"].apply(lambda x: 1 if \"HDD\" in x else 0)\n",
    "df[\"Layer2SSD\"] = df[\"second\"].apply(lambda x: 1 if \"SSD\" in x else 0)\n",
    "df[\"Layer2Hybrid\"] = df[\"second\"].apply(lambda x: 1 if \"Hybrid\" in x else 0)\n",
    "df[\"Layer2Flash_Storage\"] = df[\"second\"].apply(lambda x: 1 if \"Flash Storage\" in x else 0)\n",
    "\n",
    "df['second'] = df['second'].str.replace(r'\\D', '')\n",
    "\n",
    "df[\"first\"] = df[\"first\"].astype(int)\n",
    "df[\"second\"] = df[\"second\"].astype(int)\n",
    "\n",
    "df[\"HDD\"]=(df[\"first\"]*df[\"Layer1HDD\"]+df[\"second\"]*df[\"Layer2HDD\"])\n",
    "df[\"SSD\"]=(df[\"first\"]*df[\"Layer1SSD\"]+df[\"second\"]*df[\"Layer2SSD\"])\n",
    "df.drop(columns=['first', 'second', 'Layer1HDD', 'Layer1SSD', 'Layer1Hybrid',\n",
    "       'Layer1Flash_Storage', 'Layer2HDD', 'Layer2SSD', 'Layer2Hybrid',\n",
    "       'Layer2Flash_Storage'],inplace=True)"
   ]
  },
  {
   "cell_type": "code",
   "execution_count": 51,
   "id": "8b828933",
   "metadata": {},
   "outputs": [],
   "source": [
    "df.drop(columns=['Memory'],inplace=True)"
   ]
  },
  {
   "cell_type": "code",
   "execution_count": 52,
   "id": "560dcbaf",
   "metadata": {},
   "outputs": [
    {
     "data": {
      "text/html": [
       "<div>\n",
       "<style scoped>\n",
       "    .dataframe tbody tr th:only-of-type {\n",
       "        vertical-align: middle;\n",
       "    }\n",
       "\n",
       "    .dataframe tbody tr th {\n",
       "        vertical-align: top;\n",
       "    }\n",
       "\n",
       "    .dataframe thead th {\n",
       "        text-align: right;\n",
       "    }\n",
       "</style>\n",
       "<table border=\"1\" class=\"dataframe\">\n",
       "  <thead>\n",
       "    <tr style=\"text-align: right;\">\n",
       "      <th></th>\n",
       "      <th>Company</th>\n",
       "      <th>TypeName</th>\n",
       "      <th>Ram</th>\n",
       "      <th>Gpu</th>\n",
       "      <th>OpSys</th>\n",
       "      <th>Weight</th>\n",
       "      <th>Price</th>\n",
       "      <th>Touchscreen</th>\n",
       "      <th>Ips</th>\n",
       "      <th>X_res</th>\n",
       "      <th>Y_res</th>\n",
       "      <th>ppi</th>\n",
       "      <th>Cpu brand</th>\n",
       "      <th>HDD</th>\n",
       "      <th>SSD</th>\n",
       "    </tr>\n",
       "  </thead>\n",
       "  <tbody>\n",
       "    <tr>\n",
       "      <th>0</th>\n",
       "      <td>Apple</td>\n",
       "      <td>Ultrabook</td>\n",
       "      <td>8</td>\n",
       "      <td>Intel Iris Plus Graphics 640</td>\n",
       "      <td>macOS</td>\n",
       "      <td>1.37</td>\n",
       "      <td>71378.6832</td>\n",
       "      <td>0</td>\n",
       "      <td>1</td>\n",
       "      <td>2560</td>\n",
       "      <td>1600</td>\n",
       "      <td>226.983005</td>\n",
       "      <td>Intel Core i5</td>\n",
       "      <td>0</td>\n",
       "      <td>128</td>\n",
       "    </tr>\n",
       "    <tr>\n",
       "      <th>1</th>\n",
       "      <td>Apple</td>\n",
       "      <td>Ultrabook</td>\n",
       "      <td>8</td>\n",
       "      <td>Intel HD Graphics 6000</td>\n",
       "      <td>macOS</td>\n",
       "      <td>1.34</td>\n",
       "      <td>47895.5232</td>\n",
       "      <td>0</td>\n",
       "      <td>0</td>\n",
       "      <td>1440</td>\n",
       "      <td>900</td>\n",
       "      <td>127.677940</td>\n",
       "      <td>Intel Core i5</td>\n",
       "      <td>0</td>\n",
       "      <td>0</td>\n",
       "    </tr>\n",
       "  </tbody>\n",
       "</table>\n",
       "</div>"
      ],
      "text/plain": [
       "  Company   TypeName  Ram                           Gpu  OpSys  Weight  \\\n",
       "0   Apple  Ultrabook    8  Intel Iris Plus Graphics 640  macOS    1.37   \n",
       "1   Apple  Ultrabook    8        Intel HD Graphics 6000  macOS    1.34   \n",
       "\n",
       "        Price  Touchscreen  Ips  X_res  Y_res         ppi      Cpu brand  HDD  \\\n",
       "0  71378.6832            0    1   2560   1600  226.983005  Intel Core i5    0   \n",
       "1  47895.5232            0    0   1440    900  127.677940  Intel Core i5    0   \n",
       "\n",
       "   SSD  \n",
       "0  128  \n",
       "1    0  "
      ]
     },
     "execution_count": 52,
     "metadata": {},
     "output_type": "execute_result"
    }
   ],
   "source": [
    "df.head(2)"
   ]
  },
  {
   "cell_type": "code",
   "execution_count": 53,
   "id": "7c1f0717",
   "metadata": {},
   "outputs": [
    {
     "data": {
      "text/html": [
       "<div>\n",
       "<style scoped>\n",
       "    .dataframe tbody tr th:only-of-type {\n",
       "        vertical-align: middle;\n",
       "    }\n",
       "\n",
       "    .dataframe tbody tr th {\n",
       "        vertical-align: top;\n",
       "    }\n",
       "\n",
       "    .dataframe thead th {\n",
       "        text-align: right;\n",
       "    }\n",
       "</style>\n",
       "<table border=\"1\" class=\"dataframe\">\n",
       "  <thead>\n",
       "    <tr style=\"text-align: right;\">\n",
       "      <th></th>\n",
       "      <th>Ram</th>\n",
       "      <th>Weight</th>\n",
       "      <th>Price</th>\n",
       "      <th>Touchscreen</th>\n",
       "      <th>Ips</th>\n",
       "      <th>X_res</th>\n",
       "      <th>Y_res</th>\n",
       "      <th>ppi</th>\n",
       "      <th>HDD</th>\n",
       "      <th>SSD</th>\n",
       "    </tr>\n",
       "  </thead>\n",
       "  <tbody>\n",
       "    <tr>\n",
       "      <th>Ram</th>\n",
       "      <td>1.000000</td>\n",
       "      <td>0.389658</td>\n",
       "      <td>0.740106</td>\n",
       "      <td>0.111378</td>\n",
       "      <td>0.201446</td>\n",
       "      <td>0.423669</td>\n",
       "      <td>0.414816</td>\n",
       "      <td>0.292964</td>\n",
       "      <td>0.097834</td>\n",
       "      <td>0.599822</td>\n",
       "    </tr>\n",
       "    <tr>\n",
       "      <th>Weight</th>\n",
       "      <td>0.389658</td>\n",
       "      <td>1.000000</td>\n",
       "      <td>0.212192</td>\n",
       "      <td>-0.293933</td>\n",
       "      <td>0.022250</td>\n",
       "      <td>-0.028416</td>\n",
       "      <td>-0.049928</td>\n",
       "      <td>-0.320885</td>\n",
       "      <td>0.511227</td>\n",
       "      <td>-0.055879</td>\n",
       "    </tr>\n",
       "    <tr>\n",
       "      <th>Price</th>\n",
       "      <td>0.740106</td>\n",
       "      <td>0.212192</td>\n",
       "      <td>1.000000</td>\n",
       "      <td>0.188631</td>\n",
       "      <td>0.250358</td>\n",
       "      <td>0.552074</td>\n",
       "      <td>0.548111</td>\n",
       "      <td>0.469539</td>\n",
       "      <td>-0.098011</td>\n",
       "      <td>0.669957</td>\n",
       "    </tr>\n",
       "    <tr>\n",
       "      <th>Touchscreen</th>\n",
       "      <td>0.111378</td>\n",
       "      <td>-0.293933</td>\n",
       "      <td>0.188631</td>\n",
       "      <td>1.000000</td>\n",
       "      <td>0.139550</td>\n",
       "      <td>0.343077</td>\n",
       "      <td>0.350326</td>\n",
       "      <td>0.454189</td>\n",
       "      <td>-0.206095</td>\n",
       "      <td>0.249587</td>\n",
       "    </tr>\n",
       "    <tr>\n",
       "      <th>Ips</th>\n",
       "      <td>0.201446</td>\n",
       "      <td>0.022250</td>\n",
       "      <td>0.250358</td>\n",
       "      <td>0.139550</td>\n",
       "      <td>1.000000</td>\n",
       "      <td>0.271637</td>\n",
       "      <td>0.279652</td>\n",
       "      <td>0.290634</td>\n",
       "      <td>-0.091302</td>\n",
       "      <td>0.213639</td>\n",
       "    </tr>\n",
       "    <tr>\n",
       "      <th>X_res</th>\n",
       "      <td>0.423669</td>\n",
       "      <td>-0.028416</td>\n",
       "      <td>0.552074</td>\n",
       "      <td>0.343077</td>\n",
       "      <td>0.271637</td>\n",
       "      <td>1.000000</td>\n",
       "      <td>0.994064</td>\n",
       "      <td>0.930099</td>\n",
       "      <td>-0.120367</td>\n",
       "      <td>0.519028</td>\n",
       "    </tr>\n",
       "    <tr>\n",
       "      <th>Y_res</th>\n",
       "      <td>0.414816</td>\n",
       "      <td>-0.049928</td>\n",
       "      <td>0.548111</td>\n",
       "      <td>0.350326</td>\n",
       "      <td>0.279652</td>\n",
       "      <td>0.994064</td>\n",
       "      <td>1.000000</td>\n",
       "      <td>0.938553</td>\n",
       "      <td>-0.132367</td>\n",
       "      <td>0.510097</td>\n",
       "    </tr>\n",
       "    <tr>\n",
       "      <th>ppi</th>\n",
       "      <td>0.292964</td>\n",
       "      <td>-0.320885</td>\n",
       "      <td>0.469539</td>\n",
       "      <td>0.454189</td>\n",
       "      <td>0.290634</td>\n",
       "      <td>0.930099</td>\n",
       "      <td>0.938553</td>\n",
       "      <td>1.000000</td>\n",
       "      <td>-0.291505</td>\n",
       "      <td>0.497292</td>\n",
       "    </tr>\n",
       "    <tr>\n",
       "      <th>HDD</th>\n",
       "      <td>0.097834</td>\n",
       "      <td>0.511227</td>\n",
       "      <td>-0.098011</td>\n",
       "      <td>-0.206095</td>\n",
       "      <td>-0.091302</td>\n",
       "      <td>-0.120367</td>\n",
       "      <td>-0.132367</td>\n",
       "      <td>-0.291505</td>\n",
       "      <td>1.000000</td>\n",
       "      <td>-0.399742</td>\n",
       "    </tr>\n",
       "    <tr>\n",
       "      <th>SSD</th>\n",
       "      <td>0.599822</td>\n",
       "      <td>-0.055879</td>\n",
       "      <td>0.669957</td>\n",
       "      <td>0.249587</td>\n",
       "      <td>0.213639</td>\n",
       "      <td>0.519028</td>\n",
       "      <td>0.510097</td>\n",
       "      <td>0.497292</td>\n",
       "      <td>-0.399742</td>\n",
       "      <td>1.000000</td>\n",
       "    </tr>\n",
       "  </tbody>\n",
       "</table>\n",
       "</div>"
      ],
      "text/plain": [
       "                  Ram    Weight     Price  Touchscreen       Ips     X_res  \\\n",
       "Ram          1.000000  0.389658  0.740106     0.111378  0.201446  0.423669   \n",
       "Weight       0.389658  1.000000  0.212192    -0.293933  0.022250 -0.028416   \n",
       "Price        0.740106  0.212192  1.000000     0.188631  0.250358  0.552074   \n",
       "Touchscreen  0.111378 -0.293933  0.188631     1.000000  0.139550  0.343077   \n",
       "Ips          0.201446  0.022250  0.250358     0.139550  1.000000  0.271637   \n",
       "X_res        0.423669 -0.028416  0.552074     0.343077  0.271637  1.000000   \n",
       "Y_res        0.414816 -0.049928  0.548111     0.350326  0.279652  0.994064   \n",
       "ppi          0.292964 -0.320885  0.469539     0.454189  0.290634  0.930099   \n",
       "HDD          0.097834  0.511227 -0.098011    -0.206095 -0.091302 -0.120367   \n",
       "SSD          0.599822 -0.055879  0.669957     0.249587  0.213639  0.519028   \n",
       "\n",
       "                Y_res       ppi       HDD       SSD  \n",
       "Ram          0.414816  0.292964  0.097834  0.599822  \n",
       "Weight      -0.049928 -0.320885  0.511227 -0.055879  \n",
       "Price        0.548111  0.469539 -0.098011  0.669957  \n",
       "Touchscreen  0.350326  0.454189 -0.206095  0.249587  \n",
       "Ips          0.279652  0.290634 -0.091302  0.213639  \n",
       "X_res        0.994064  0.930099 -0.120367  0.519028  \n",
       "Y_res        1.000000  0.938553 -0.132367  0.510097  \n",
       "ppi          0.938553  1.000000 -0.291505  0.497292  \n",
       "HDD         -0.132367 -0.291505  1.000000 -0.399742  \n",
       "SSD          0.510097  0.497292 -0.399742  1.000000  "
      ]
     },
     "execution_count": 53,
     "metadata": {},
     "output_type": "execute_result"
    }
   ],
   "source": [
    "df.corr()"
   ]
  },
  {
   "cell_type": "code",
   "execution_count": 54,
   "id": "c0ecbc11",
   "metadata": {},
   "outputs": [],
   "source": [
    "df.drop(['X_res', 'ppi'],axis=1, inplace=True)"
   ]
  },
  {
   "cell_type": "code",
   "execution_count": 55,
   "id": "181afbc9",
   "metadata": {},
   "outputs": [
    {
     "data": {
      "text/html": [
       "<div>\n",
       "<style scoped>\n",
       "    .dataframe tbody tr th:only-of-type {\n",
       "        vertical-align: middle;\n",
       "    }\n",
       "\n",
       "    .dataframe tbody tr th {\n",
       "        vertical-align: top;\n",
       "    }\n",
       "\n",
       "    .dataframe thead th {\n",
       "        text-align: right;\n",
       "    }\n",
       "</style>\n",
       "<table border=\"1\" class=\"dataframe\">\n",
       "  <thead>\n",
       "    <tr style=\"text-align: right;\">\n",
       "      <th></th>\n",
       "      <th>Company</th>\n",
       "      <th>TypeName</th>\n",
       "      <th>Ram</th>\n",
       "      <th>Gpu</th>\n",
       "      <th>OpSys</th>\n",
       "      <th>Weight</th>\n",
       "      <th>Price</th>\n",
       "      <th>Touchscreen</th>\n",
       "      <th>Ips</th>\n",
       "      <th>Y_res</th>\n",
       "      <th>Cpu brand</th>\n",
       "      <th>HDD</th>\n",
       "      <th>SSD</th>\n",
       "    </tr>\n",
       "  </thead>\n",
       "  <tbody>\n",
       "    <tr>\n",
       "      <th>0</th>\n",
       "      <td>Apple</td>\n",
       "      <td>Ultrabook</td>\n",
       "      <td>8</td>\n",
       "      <td>Intel Iris Plus Graphics 640</td>\n",
       "      <td>macOS</td>\n",
       "      <td>1.37</td>\n",
       "      <td>71378.6832</td>\n",
       "      <td>0</td>\n",
       "      <td>1</td>\n",
       "      <td>1600</td>\n",
       "      <td>Intel Core i5</td>\n",
       "      <td>0</td>\n",
       "      <td>128</td>\n",
       "    </tr>\n",
       "    <tr>\n",
       "      <th>1</th>\n",
       "      <td>Apple</td>\n",
       "      <td>Ultrabook</td>\n",
       "      <td>8</td>\n",
       "      <td>Intel HD Graphics 6000</td>\n",
       "      <td>macOS</td>\n",
       "      <td>1.34</td>\n",
       "      <td>47895.5232</td>\n",
       "      <td>0</td>\n",
       "      <td>0</td>\n",
       "      <td>900</td>\n",
       "      <td>Intel Core i5</td>\n",
       "      <td>0</td>\n",
       "      <td>0</td>\n",
       "    </tr>\n",
       "  </tbody>\n",
       "</table>\n",
       "</div>"
      ],
      "text/plain": [
       "  Company   TypeName  Ram                           Gpu  OpSys  Weight  \\\n",
       "0   Apple  Ultrabook    8  Intel Iris Plus Graphics 640  macOS    1.37   \n",
       "1   Apple  Ultrabook    8        Intel HD Graphics 6000  macOS    1.34   \n",
       "\n",
       "        Price  Touchscreen  Ips  Y_res      Cpu brand  HDD  SSD  \n",
       "0  71378.6832            0    1   1600  Intel Core i5    0  128  \n",
       "1  47895.5232            0    0    900  Intel Core i5    0    0  "
      ]
     },
     "execution_count": 55,
     "metadata": {},
     "output_type": "execute_result"
    }
   ],
   "source": [
    "df.head(2)"
   ]
  },
  {
   "cell_type": "code",
   "execution_count": 56,
   "id": "3c8b2bd5",
   "metadata": {},
   "outputs": [],
   "source": [
    "df['Gpu brand'] = df['Gpu'].apply(lambda x:x.split()[0])"
   ]
  },
  {
   "cell_type": "code",
   "execution_count": 57,
   "id": "c9aacd7f",
   "metadata": {},
   "outputs": [
    {
     "data": {
      "text/plain": [
       "(array([0, 1, 2, 3]),\n",
       " [Text(0, 0, 'Intel'),\n",
       "  Text(1, 0, 'AMD'),\n",
       "  Text(2, 0, 'Nvidia'),\n",
       "  Text(3, 0, 'ARM')])"
      ]
     },
     "execution_count": 57,
     "metadata": {},
     "output_type": "execute_result"
    },
    {
     "data": {
      "image/png": "[encoded data removed]",
      "text/plain": [
       "<Figure size 640x480 with 1 Axes>"
      ]
     },
     "metadata": {},
     "output_type": "display_data"
    }
   ],
   "source": [
    "sns.barplot(x=df['Gpu brand'],y=df['Price'],estimator=np.median)\n",
    "plt.xticks(rotation='vertical')"
   ]
  },
  {
   "cell_type": "code",
   "execution_count": 58,
   "id": "29a6e2ae",
   "metadata": {},
   "outputs": [],
   "source": [
    "df.drop(columns=['Gpu'],inplace=True)"
   ]
  },
  {
   "cell_type": "code",
   "execution_count": 59,
   "id": "45891139",
   "metadata": {},
   "outputs": [
    {
     "data": {
      "text/plain": [
       "(array([0, 1, 2, 3, 4, 5, 6, 7, 8]),\n",
       " [Text(0, 0, 'macOS'),\n",
       "  Text(1, 0, 'No OS'),\n",
       "  Text(2, 0, 'Windows 10'),\n",
       "  Text(3, 0, 'Mac OS X'),\n",
       "  Text(4, 0, 'Linux'),\n",
       "  Text(5, 0, 'Android'),\n",
       "  Text(6, 0, 'Windows 10 S'),\n",
       "  Text(7, 0, 'Chrome OS'),\n",
       "  Text(8, 0, 'Windows 7')])"
      ]
     },
     "execution_count": 59,
     "metadata": {},
     "output_type": "execute_result"
    },
    {
     "data": {
      "image/png": "[encoded data removed]",
      "text/plain": [
       "<Figure size 640x480 with 1 Axes>"
      ]
     },
     "metadata": {},
     "output_type": "display_data"
    }
   ],
   "source": [
    "sns.barplot(x=df['OpSys'],y=df['Price'])\n",
    "plt.xticks(rotation='vertical')"
   ]
  },
  {
   "cell_type": "code",
   "execution_count": 60,
   "id": "3d97931d",
   "metadata": {},
   "outputs": [],
   "source": [
    "def cat_os(inp):\n",
    "    if inp == 'Windows 10' or inp == 'Windows 7' or inp == 'Windows 10 S':\n",
    "        return 'Windows'\n",
    "    elif inp == 'macOS' or inp == 'Mac OS X':\n",
    "        return 'Mac'\n",
    "    else:\n",
    "        return 'Others/No OS/Linux'"
   ]
  },
  {
   "cell_type": "code",
   "execution_count": 61,
   "id": "9304bfce",
   "metadata": {},
   "outputs": [],
   "source": [
    "df['os'] = df['OpSys'].apply(cat_os)"
   ]
  },
  {
   "cell_type": "code",
   "execution_count": 62,
   "id": "89a1a3bc",
   "metadata": {},
   "outputs": [],
   "source": [
    "df.drop(columns=['OpSys'],inplace=True)"
   ]
  },
  {
   "cell_type": "code",
   "execution_count": 63,
   "id": "f5981815",
   "metadata": {},
   "outputs": [
    {
     "data": {
      "text/html": [
       "<div>\n",
       "<style scoped>\n",
       "    .dataframe tbody tr th:only-of-type {\n",
       "        vertical-align: middle;\n",
       "    }\n",
       "\n",
       "    .dataframe tbody tr th {\n",
       "        vertical-align: top;\n",
       "    }\n",
       "\n",
       "    .dataframe thead th {\n",
       "        text-align: right;\n",
       "    }\n",
       "</style>\n",
       "<table border=\"1\" class=\"dataframe\">\n",
       "  <thead>\n",
       "    <tr style=\"text-align: right;\">\n",
       "      <th></th>\n",
       "      <th>Company</th>\n",
       "      <th>TypeName</th>\n",
       "      <th>Ram</th>\n",
       "      <th>Weight</th>\n",
       "      <th>Price</th>\n",
       "      <th>Touchscreen</th>\n",
       "      <th>Ips</th>\n",
       "      <th>Y_res</th>\n",
       "      <th>Cpu brand</th>\n",
       "      <th>HDD</th>\n",
       "      <th>SSD</th>\n",
       "      <th>Gpu brand</th>\n",
       "      <th>os</th>\n",
       "    </tr>\n",
       "  </thead>\n",
       "  <tbody>\n",
       "    <tr>\n",
       "      <th>0</th>\n",
       "      <td>Apple</td>\n",
       "      <td>Ultrabook</td>\n",
       "      <td>8</td>\n",
       "      <td>1.37</td>\n",
       "      <td>71378.6832</td>\n",
       "      <td>0</td>\n",
       "      <td>1</td>\n",
       "      <td>1600</td>\n",
       "      <td>Intel Core i5</td>\n",
       "      <td>0</td>\n",
       "      <td>128</td>\n",
       "      <td>Intel</td>\n",
       "      <td>Mac</td>\n",
       "    </tr>\n",
       "    <tr>\n",
       "      <th>1</th>\n",
       "      <td>Apple</td>\n",
       "      <td>Ultrabook</td>\n",
       "      <td>8</td>\n",
       "      <td>1.34</td>\n",
       "      <td>47895.5232</td>\n",
       "      <td>0</td>\n",
       "      <td>0</td>\n",
       "      <td>900</td>\n",
       "      <td>Intel Core i5</td>\n",
       "      <td>0</td>\n",
       "      <td>0</td>\n",
       "      <td>Intel</td>\n",
       "      <td>Mac</td>\n",
       "    </tr>\n",
       "  </tbody>\n",
       "</table>\n",
       "</div>"
      ],
      "text/plain": [
       "  Company   TypeName  Ram  Weight       Price  Touchscreen  Ips  Y_res  \\\n",
       "0   Apple  Ultrabook    8    1.37  71378.6832            0    1   1600   \n",
       "1   Apple  Ultrabook    8    1.34  47895.5232            0    0    900   \n",
       "\n",
       "       Cpu brand  HDD  SSD Gpu brand   os  \n",
       "0  Intel Core i5    0  128     Intel  Mac  \n",
       "1  Intel Core i5    0    0     Intel  Mac  "
      ]
     },
     "execution_count": 63,
     "metadata": {},
     "output_type": "execute_result"
    }
   ],
   "source": [
    "df.head(2)"
   ]
  },
  {
   "cell_type": "code",
   "execution_count": 64,
   "id": "716b1b70",
   "metadata": {},
   "outputs": [
    {
     "data": {
      "text/plain": [
       "Ram            0.740106\n",
       "Weight         0.212192\n",
       "Price          1.000000\n",
       "Touchscreen    0.188631\n",
       "Ips            0.250358\n",
       "Y_res          0.548111\n",
       "HDD           -0.098011\n",
       "SSD            0.669957\n",
       "Name: Price, dtype: float64"
      ]
     },
     "execution_count": 64,
     "metadata": {},
     "output_type": "execute_result"
    }
   ],
   "source": [
    "df.corr()['Price']"
   ]
  },
  {
   "cell_type": "code",
   "execution_count": 65,
   "id": "75b46a95",
   "metadata": {},
   "outputs": [],
   "source": [
    "df.drop(['HDD'], axis=1, inplace=True)"
   ]
  },
  {
   "cell_type": "code",
   "execution_count": 66,
   "id": "fda9d043",
   "metadata": {},
   "outputs": [],
   "source": [
    "X=df.drop(columns=['Price'])\n",
    "y=np.log(df['Price'])"
   ]
  },
  {
   "cell_type": "code",
   "execution_count": 67,
   "id": "fe6c4f2f",
   "metadata": {},
   "outputs": [],
   "source": [
    "X=pd.get_dummies(data=X, columns=['Company','TypeName','Touchscreen', 'Ips', 'Cpu brand', 'Gpu brand', 'os'])"
   ]
  },
  {
   "cell_type": "code",
   "execution_count": 68,
   "id": "73c98373",
   "metadata": {},
   "outputs": [],
   "source": [
    "from sklearn.model_selection import train_test_split\n",
    "X_train,X_test,y_train,y_test = train_test_split(X,y,test_size=0.2,random_state=2)"
   ]
  },
  {
   "cell_type": "code",
   "execution_count": 69,
   "id": "946a85fe",
   "metadata": {},
   "outputs": [],
   "source": [
    "from sklearn.compose import ColumnTransformer\n",
    "from sklearn.pipeline import Pipeline\n",
    "from sklearn.preprocessing import OneHotEncoder\n",
    "from sklearn.metrics import r2_score,mean_absolute_error"
   ]
  },
  {
   "cell_type": "code",
   "execution_count": 70,
   "id": "c953434b",
   "metadata": {},
   "outputs": [],
   "source": [
    "from sklearn.linear_model import LinearRegression,Ridge,Lasso\n",
    "from sklearn.neighbors import KNeighborsRegressor\n",
    "from sklearn.tree import DecisionTreeRegressor\n",
    "from sklearn.ensemble import RandomForestRegressor,GradientBoostingRegressor,AdaBoostRegressor,ExtraTreesRegressor\n",
    "from sklearn.svm import SVR\n",
    "# !pip install xgboost\n",
    "from xgboost import XGBRegressor"
   ]
  },
  {
   "cell_type": "code",
   "execution_count": 71,
   "id": "6546587c",
   "metadata": {},
   "outputs": [],
   "source": [
    "lm=LinearRegression()\n",
    "lm.fit(X_train, y_train)\n",
    "lm_pred=lm.predict(X_test)"
   ]
  },
  {
   "cell_type": "code",
   "execution_count": 72,
   "id": "151215f8",
   "metadata": {},
   "outputs": [
    {
     "name": "stdout",
     "output_type": "stream",
     "text": [
      "R2 score 0.8022787526641799\n",
      "MAE 0.21059872320347134\n"
     ]
    }
   ],
   "source": [
    "print('R2 score',r2_score(y_test,lm_pred))\n",
    "print('MAE',mean_absolute_error(y_test,lm_pred))"
   ]
  },
  {
   "cell_type": "code",
   "execution_count": 73,
   "id": "5fcf35b8",
   "metadata": {},
   "outputs": [],
   "source": [
    "rr=Ridge(alpha=10)\n",
    "rr.fit(X_train, y_train)\n",
    "rr_pred=rr.predict(X_test)"
   ]
  },
  {
   "cell_type": "code",
   "execution_count": 74,
   "id": "d2cd2c02",
   "metadata": {},
   "outputs": [
    {
     "name": "stdout",
     "output_type": "stream",
     "text": [
      "R2 score 0.8009751266230674\n",
      "MAE 0.2104187148963441\n"
     ]
    }
   ],
   "source": [
    "print('R2 score',r2_score(y_test,rr_pred))\n",
    "print('MAE',mean_absolute_error(y_test,rr_pred))"
   ]
  },
  {
   "cell_type": "code",
   "execution_count": 75,
   "id": "24e9d9cf",
   "metadata": {},
   "outputs": [],
   "source": [
    "lr=Lasso(alpha=0.0001)\n",
    "lr.fit(X_train, y_train)\n",
    "lr_pred=lr.predict(X_test)"
   ]
  },
  {
   "cell_type": "code",
   "execution_count": 76,
   "id": "5443a657",
   "metadata": {},
   "outputs": [
    {
     "name": "stdout",
     "output_type": "stream",
     "text": [
      "R2 score 0.8021189793159946\n",
      "MAE 0.21073305570945014\n"
     ]
    }
   ],
   "source": [
    "print('R2 score',r2_score(y_test,lr_pred))\n",
    "print('MAE',mean_absolute_error(y_test,lr_pred))"
   ]
  },
  {
   "cell_type": "code",
   "execution_count": 77,
   "id": "7fae149c",
   "metadata": {},
   "outputs": [],
   "source": [
    "knn=KNeighborsRegressor(n_neighbors=3)\n",
    "knn.fit(X_train, y_train)\n",
    "knn_pred=knn.predict(X_test)"
   ]
  },
  {
   "cell_type": "code",
   "execution_count": 78,
   "id": "48a02dce",
   "metadata": {},
   "outputs": [
    {
     "name": "stdout",
     "output_type": "stream",
     "text": [
      "R2 score 0.8533031743960244\n",
      "MAE 0.18122769574609668\n"
     ]
    }
   ],
   "source": [
    "print('R2 score',r2_score(y_test,knn_pred))\n",
    "print('MAE',mean_absolute_error(y_test,knn_pred))"
   ]
  },
  {
   "cell_type": "code",
   "execution_count": 79,
   "id": "87f8b7a9",
   "metadata": {},
   "outputs": [],
   "source": [
    "dtr=DecisionTreeRegressor(max_depth=8)\n",
    "dtr.fit(X_train, y_train)\n",
    "dtr_pred=dtr.predict(X_test)"
   ]
  },
  {
   "cell_type": "code",
   "execution_count": 80,
   "id": "7d8498b7",
   "metadata": {},
   "outputs": [
    {
     "name": "stdout",
     "output_type": "stream",
     "text": [
      "R2 score 0.8054526215917702\n",
      "MAE 0.20281968952772186\n"
     ]
    }
   ],
   "source": [
    "print('R2 score',r2_score(y_test,dtr_pred))\n",
    "print('MAE',mean_absolute_error(y_test,dtr_pred))"
   ]
  },
  {
   "cell_type": "code",
   "execution_count": 81,
   "id": "e238bf3f",
   "metadata": {},
   "outputs": [],
   "source": [
    "svm=SVR(kernel='rbf',C=10000,epsilon=0.1)\n",
    "svm.fit(X_train, y_train)\n",
    "svm_pred=svm.predict(X_test)"
   ]
  },
  {
   "cell_type": "code",
   "execution_count": 82,
   "id": "6b3178c6",
   "metadata": {},
   "outputs": [
    {
     "name": "stdout",
     "output_type": "stream",
     "text": [
      "R2 score 0.820508250919551\n",
      "MAE 0.20114880514120995\n"
     ]
    }
   ],
   "source": [
    "print('R2 score',r2_score(y_test,svm_pred))\n",
    "print('MAE',mean_absolute_error(y_test,svm_pred))"
   ]
  },
  {
   "cell_type": "code",
   "execution_count": 83,
   "id": "5b476492",
   "metadata": {},
   "outputs": [],
   "source": [
    "rfr=RandomForestRegressor(n_estimators=100,\n",
    "                              random_state=3,\n",
    "                              max_samples=0.5,\n",
    "                              max_features=0.75,\n",
    "                              max_depth=15)\n",
    "rfr.fit(X_train, y_train)\n",
    "rfr_pred=rfr.predict(X_test)"
   ]
  },
  {
   "cell_type": "code",
   "execution_count": 84,
   "id": "f1a1e180",
   "metadata": {},
   "outputs": [
    {
     "name": "stdout",
     "output_type": "stream",
     "text": [
      "R2 score 0.8792758948086361\n",
      "MAE 0.16654639130878157\n"
     ]
    }
   ],
   "source": [
    "print('R2 score',r2_score(y_test,rfr_pred))\n",
    "print('MAE',mean_absolute_error(y_test,rfr_pred))"
   ]
  },
  {
   "cell_type": "code",
   "execution_count": 85,
   "id": "9aed34cb",
   "metadata": {},
   "outputs": [],
   "source": [
    "etr=ExtraTreesRegressor(n_estimators=200,\n",
    "                              random_state=4,\n",
    "                              max_features=0.75,\n",
    "                              max_depth=20,\n",
    "                              max_samples=None,\n",
    "                              )\n",
    "etr.fit(X_train, y_train)\n",
    "etr_pred=rfr.predict(X_test)"
   ]
  },
  {
   "cell_type": "code",
   "execution_count": 86,
   "id": "734a61b9",
   "metadata": {},
   "outputs": [
    {
     "name": "stdout",
     "output_type": "stream",
     "text": [
      "R2 score 0.8792758948086361\n",
      "MAE 0.16654639130878157\n"
     ]
    }
   ],
   "source": [
    "print('R2 score',r2_score(y_test,etr_pred))\n",
    "print('MAE',mean_absolute_error(y_test,etr_pred))"
   ]
  },
  {
   "cell_type": "code",
   "execution_count": 87,
   "id": "2b74d7e5",
   "metadata": {},
   "outputs": [],
   "source": [
    "gbr=GradientBoostingRegressor(n_estimators=500)\n",
    "gbr.fit(X_train, y_train)\n",
    "gbr_pred=gbr.predict(X_test)"
   ]
  },
  {
   "cell_type": "code",
   "execution_count": 88,
   "id": "034c1f64",
   "metadata": {},
   "outputs": [
    {
     "name": "stdout",
     "output_type": "stream",
     "text": [
      "R2 score 0.871783927573009\n",
      "MAE 0.1662529890477193\n"
     ]
    }
   ],
   "source": [
    "print('R2 score',r2_score(y_test,gbr_pred))\n",
    "print('MAE',mean_absolute_error(y_test,gbr_pred))"
   ]
  },
  {
   "cell_type": "code",
   "execution_count": 89,
   "id": "0fe758c1",
   "metadata": {},
   "outputs": [],
   "source": [
    "rf = RandomForestRegressor(n_estimators=350,random_state=3,max_features=0.75,max_depth=15)\n",
    "gbdt = GradientBoostingRegressor(n_estimators=100,max_features=0.5)\n",
    "xgb = XGBRegressor(n_estimators=25,learning_rate=0.3,max_depth=5)\n",
    "et = ExtraTreesRegressor(n_estimators=100,random_state=3,max_features=0.75,max_depth=10)"
   ]
  },
  {
   "cell_type": "code",
   "execution_count": 90,
   "id": "beeb9d38",
   "metadata": {},
   "outputs": [],
   "source": [
    "from sklearn.ensemble import VotingRegressor,StackingRegressor\n",
    "vr=VotingRegressor([('rf', rf), ('gbdt', gbdt), ('xgb',xgb), ('et',et)],weights=[5,1,1,1])\n",
    "vr.fit(X_train, y_train)\n",
    "vr_pred=vr.predict(X_test)"
   ]
  },
  {
   "cell_type": "code",
   "execution_count": 91,
   "id": "5b693d14",
   "metadata": {},
   "outputs": [
    {
     "name": "stdout",
     "output_type": "stream",
     "text": [
      "R2 score 0.8851617822951618\n",
      "MAE 0.16338981707266462\n"
     ]
    }
   ],
   "source": [
    "print('R2 score',r2_score(y_test,vr_pred))\n",
    "print('MAE',mean_absolute_error(y_test,vr_pred))"
   ]
  },
  {
   "cell_type": "code",
   "execution_count": 92,
   "id": "1b5f5701",
   "metadata": {},
   "outputs": [],
   "source": [
    "estimators = [\n",
    "    ('rf', RandomForestRegressor(n_estimators=350,random_state=3,max_features=0.75,max_depth=15)),\n",
    "    ('gbdt',GradientBoostingRegressor(n_estimators=100,max_features=0.5)),\n",
    "    ('xgb', XGBRegressor(n_estimators=25,learning_rate=0.3,max_depth=5))]"
   ]
  },
  {
   "cell_type": "code",
   "execution_count": 93,
   "id": "93716cac",
   "metadata": {},
   "outputs": [],
   "source": [
    "sr=StackingRegressor(estimators=estimators, final_estimator=Ridge(alpha=100))\n",
    "sr.fit(X_train, y_train)\n",
    "sr_pred=sr.predict(X_test)"
   ]
  },
  {
   "cell_type": "code",
   "execution_count": 94,
   "id": "a1ae3b97",
   "metadata": {},
   "outputs": [
    {
     "name": "stdout",
     "output_type": "stream",
     "text": [
      "R2 score 0.8802291244776133\n",
      "MAE 0.16832059168097294\n"
     ]
    }
   ],
   "source": [
    "print('R2 score',r2_score(y_test,sr_pred))\n",
    "print('MAE',mean_absolute_error(y_test,sr_pred))"
   ]
  },
  {
   "cell_type": "code",
   "execution_count": null,
   "id": "4fc8cc80",
   "metadata": {},
   "outputs": [],
   "source": []
  }
 ],
 "metadata": {
  "kernelspec": {
   "display_name": "Python 3 (ipykernel)",
   "language": "python",
   "name": "python3"
  },
  "language_info": {
   "codemirror_mode": {
    "name": "ipython",
    "version": 3
   },
   "file_extension": ".py",
   "mimetype": "text/x-python",
   "name": "python",
   "nbconvert_exporter": "python",
   "pygments_lexer": "ipython3",
   "version": "3.9.13"
  }
 },
 "nbformat": 4,
 "nbformat_minor": 5
}
